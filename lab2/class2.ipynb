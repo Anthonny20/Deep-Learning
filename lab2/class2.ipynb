{
 "cells": [
  {
   "cell_type": "markdown",
   "id": "d4396300",
   "metadata": {},
   "source": [
    "Putting it all Together: CNN in PyTorch"
   ]
  },
  {
   "cell_type": "code",
   "execution_count": 1,
   "id": "99f6b1d2",
   "metadata": {},
   "outputs": [],
   "source": [
    "import torch\n",
    "import torch.nn as nn"
   ]
  },
  {
   "cell_type": "code",
   "execution_count": null,
   "id": "5eef79f6",
   "metadata": {},
   "outputs": [],
   "source": [
    "def generate_model():\n",
    "\n",
    "    model = nn.Sequential([\n",
    "        # First Convolutional Layer\n",
    "        nn.Conv2d(in_channels=3, out_channels=32, filter_size=3),\n",
    "        nn.ReLU(),\n",
    "        nn.MaxPool2d(kernel_size=2, stride=2),\n",
    "\n",
    "        nn.Conv2d(in_channels=32, out_channels=64, filter_size=3),\n",
    "        nn.ReLU(),\n",
    "        nn.MaxPool2d(kernel_size=2, stride=2),\n",
    "\n",
    "        # Fully Connected classifier\n",
    "        nn.Flatten(),\n",
    "        nn.Linear(64*6*6, 1024),    # Flattened  dim after 2 Convolutional Layers\n",
    "        nn.ReLU(),\n",
    "        nn.Linear(1024, 10),        # 10 Outputs\n",
    "    ])\n",
    "    return model"
   ]
  },
  {
   "cell_type": "code",
   "execution_count": null,
   "id": "1448a6dc",
   "metadata": {},
   "outputs": [],
   "source": []
  }
 ],
 "metadata": {
  "kernelspec": {
   "display_name": "Python 3",
   "language": "python",
   "name": "python3"
  },
  "language_info": {
   "codemirror_mode": {
    "name": "ipython",
    "version": 3
   },
   "file_extension": ".py",
   "mimetype": "text/x-python",
   "name": "python",
   "nbconvert_exporter": "python",
   "pygments_lexer": "ipython3",
   "version": "3.11.0"
  }
 },
 "nbformat": 4,
 "nbformat_minor": 5
}
