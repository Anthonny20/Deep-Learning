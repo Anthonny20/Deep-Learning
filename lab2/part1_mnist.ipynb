{
 "cells": [
  {
   "cell_type": "markdown",
   "id": "67403492",
   "metadata": {},
   "source": [
    "Laboratory 2: Computer Vision"
   ]
  },
  {
   "cell_type": "markdown",
   "id": "5678ab1d",
   "metadata": {},
   "source": [
    "Part 1: MNIST Digit Classification"
   ]
  },
  {
   "cell_type": "markdown",
   "id": "c1237c37",
   "metadata": {},
   "source": [
    "In the first portion of this lab, we will build and train a Convolution Neural Network (CNN) for classification of handwritten digits from the famous MNIST dataset. The MNIST dataset consist of 60,000 training images and 10,000 test images. Our classes are the digits 0-9."
   ]
  },
  {
   "cell_type": "markdown",
   "id": "6238f21b",
   "metadata": {},
   "source": [
    "First, let's download the course repository, install dependencies, and import the relevant packages we'll need for this lab."
   ]
  },
  {
   "cell_type": "code",
   "execution_count": 1,
   "id": "9ec9fd26",
   "metadata": {},
   "outputs": [],
   "source": [
    "# Import PyTorch and other relevant libraries\n",
    "import torch\n",
    "import torch.nn as nn\n",
    "import torch.optim as optim\n",
    "import torchvision\n",
    "import torchvision.datasets as datasets\n",
    "import torchvision.transforms as transforms\n",
    "from torch.utils.data import DataLoader\n",
    "from torchsummary import summary\n",
    "\n",
    "# Other packages\n",
    "import matplotlib.pyplot as plt\n",
    "import numpy as np\n",
    "import random\n",
    "from tqdm import tqdm"
   ]
  },
  {
   "cell_type": "code",
   "execution_count": 2,
   "id": "b77cb2ee",
   "metadata": {},
   "outputs": [],
   "source": [
    "import comet_ml\n",
    "# TODO: ENTER YOUR API KEY HERE !!\n",
    "COMET_API_KEY = \"IfAOqB1pulTvZR0qAUE9qFPjW\"\n",
    "\n",
    "# Check that we are using a GPU\n",
    "assert torch.cuda.is_available(), \"Please enable GPU\"\n",
    "assert COMET_API_KEY != \"\", \"Please insert your Comet API Key\"\n",
    "\n",
    "# Set GPU for computation\n",
    "device = torch.device(\"cuda\" if torch.cuda.is_available () else \"cpu\")"
   ]
  },
  {
   "cell_type": "code",
   "execution_count": 3,
   "id": "fb7dd641",
   "metadata": {},
   "outputs": [
    {
     "name": "stderr",
     "output_type": "stream",
     "text": [
      "\u001b[1;38;5;214mCOMET WARNING:\u001b[0m comet_ml.init() is deprecated and will be removed soon. Please use comet_ml.login()\n"
     ]
    },
    {
     "name": "stdout",
     "output_type": "stream",
     "text": [
      "Please paste your Comet API key from https://www.comet.com/api/my/settings/\n",
      "(api key may not show as you type)\n"
     ]
    },
    {
     "name": "stderr",
     "output_type": "stream",
     "text": [
      "\u001b[1;38;5;39mCOMET INFO:\u001b[0m Valid Comet API Key saved in C:\\Users\\Anthonny\\.comet.config (set COMET_CONFIG to change where it is saved).\n",
      "\u001b[1;38;5;214mCOMET WARNING:\u001b[0m To get all data logged automatically, import comet_ml before the following modules: torch.\n",
      "\u001b[1;38;5;214mCOMET WARNING:\u001b[0m As you are running in a Jupyter environment, you will need to call `experiment.end()` when finished to ensure all metrics and code are logged before exiting.\n",
      "\u001b[1;38;5;39mCOMET INFO:\u001b[0m Experiment is live on comet.com https://www.comet.com/anthonny20/deep-learning-lab2-part2-nn/ec50f6adfc924c15b5230da635c1af2f\n",
      "\n"
     ]
    }
   ],
   "source": [
    "# start a first comet experiment for the first part of the lab\n",
    "comet_ml.init(project_name=\"Deep_Learning_lab2_part2_NN\")\n",
    "comet_model_1 = comet_ml.Experiment()"
   ]
  },
  {
   "cell_type": "markdown",
   "id": "0a5b2091",
   "metadata": {},
   "source": [
    "MNIST Dataset"
   ]
  },
  {
   "cell_type": "markdown",
   "id": "c1fc406c",
   "metadata": {},
   "source": [
    "Let's download and load the dataset and display a few random samples from it:"
   ]
  },
  {
   "cell_type": "code",
   "execution_count": 4,
   "id": "8734da0a",
   "metadata": {},
   "outputs": [
    {
     "name": "stdout",
     "output_type": "stream",
     "text": [
      "Downloading http://yann.lecun.com/exdb/mnist/train-images-idx3-ubyte.gz\n",
      "Failed to download (trying next):\n",
      "HTTP Error 404: Not Found\n",
      "\n",
      "Downloading https://ossci-datasets.s3.amazonaws.com/mnist/train-images-idx3-ubyte.gz\n",
      "Downloading https://ossci-datasets.s3.amazonaws.com/mnist/train-images-idx3-ubyte.gz to ./data\\MNIST\\raw\\train-images-idx3-ubyte.gz\n"
     ]
    },
    {
     "name": "stderr",
     "output_type": "stream",
     "text": [
      "100%|██████████| 9.91M/9.91M [00:24<00:00, 407kB/s]\n"
     ]
    },
    {
     "name": "stdout",
     "output_type": "stream",
     "text": [
      "Extracting ./data\\MNIST\\raw\\train-images-idx3-ubyte.gz to ./data\\MNIST\\raw\n",
      "\n",
      "Downloading http://yann.lecun.com/exdb/mnist/train-labels-idx1-ubyte.gz\n",
      "Failed to download (trying next):\n",
      "HTTP Error 404: Not Found\n",
      "\n",
      "Downloading https://ossci-datasets.s3.amazonaws.com/mnist/train-labels-idx1-ubyte.gz\n",
      "Downloading https://ossci-datasets.s3.amazonaws.com/mnist/train-labels-idx1-ubyte.gz to ./data\\MNIST\\raw\\train-labels-idx1-ubyte.gz\n"
     ]
    },
    {
     "name": "stderr",
     "output_type": "stream",
     "text": [
      "100%|██████████| 28.9k/28.9k [00:00<00:00, 291kB/s]\n"
     ]
    },
    {
     "name": "stdout",
     "output_type": "stream",
     "text": [
      "Extracting ./data\\MNIST\\raw\\train-labels-idx1-ubyte.gz to ./data\\MNIST\\raw\n",
      "\n",
      "Downloading http://yann.lecun.com/exdb/mnist/t10k-images-idx3-ubyte.gz\n",
      "Failed to download (trying next):\n",
      "HTTP Error 404: Not Found\n",
      "\n",
      "Downloading https://ossci-datasets.s3.amazonaws.com/mnist/t10k-images-idx3-ubyte.gz\n",
      "Downloading https://ossci-datasets.s3.amazonaws.com/mnist/t10k-images-idx3-ubyte.gz to ./data\\MNIST\\raw\\t10k-images-idx3-ubyte.gz\n"
     ]
    },
    {
     "name": "stderr",
     "output_type": "stream",
     "text": [
      "100%|██████████| 1.65M/1.65M [00:05<00:00, 324kB/s]\n"
     ]
    },
    {
     "name": "stdout",
     "output_type": "stream",
     "text": [
      "Extracting ./data\\MNIST\\raw\\t10k-images-idx3-ubyte.gz to ./data\\MNIST\\raw\n",
      "\n",
      "Downloading http://yann.lecun.com/exdb/mnist/t10k-labels-idx1-ubyte.gz\n",
      "Failed to download (trying next):\n",
      "HTTP Error 404: Not Found\n",
      "\n",
      "Downloading https://ossci-datasets.s3.amazonaws.com/mnist/t10k-labels-idx1-ubyte.gz\n",
      "Downloading https://ossci-datasets.s3.amazonaws.com/mnist/t10k-labels-idx1-ubyte.gz to ./data\\MNIST\\raw\\t10k-labels-idx1-ubyte.gz\n"
     ]
    },
    {
     "name": "stderr",
     "output_type": "stream",
     "text": [
      "100%|██████████| 4.54k/4.54k [00:00<00:00, 4.54MB/s]"
     ]
    },
    {
     "name": "stdout",
     "output_type": "stream",
     "text": [
      "Extracting ./data\\MNIST\\raw\\t10k-labels-idx1-ubyte.gz to ./data\\MNIST\\raw\n",
      "\n"
     ]
    },
    {
     "name": "stderr",
     "output_type": "stream",
     "text": [
      "\n"
     ]
    }
   ],
   "source": [
    "# Download and transform the MNIST dataset\n",
    "transform = transforms.Compose([\n",
    "        # Convert images to PyTorch tensors which also scales data from [0, 255] to [0,1]\n",
    "        transforms.ToTensor()\n",
    "])\n",
    "\n",
    "# Download training and test datasets\n",
    "train_dataset = datasets.MNIST(root='./data', train=True, download=True, transform=transform)\n",
    "test_dataset = datasets.MNIST(root='./data', train=False, download=True, transform=transform)"
   ]
  },
  {
   "cell_type": "markdown",
   "id": "3f7a6479",
   "metadata": {},
   "source": [
    "The MNIST dataset object in PyTorch is not a simple tensor or array. It's an iterable dataset that loads samples (image-label pairs) one at a time or in batches. In a later section of this lab, we will define a handy DataLoader to process the data in batches."
   ]
  },
  {
   "cell_type": "code",
   "execution_count": null,
   "id": "88f6fec1",
   "metadata": {},
   "outputs": [
    {
     "name": "stdout",
     "output_type": "stream",
     "text": [
      "torch.Size([1, 28, 28])\n",
      "5\n"
     ]
    }
   ],
   "source": [
    "image, label = train_dataset[0]\n",
    "print(image.size()) # For a tensor: torch.Size([1, 28, 28])\n",
    "print(label) # For a label: integer (e.g., S)"
   ]
  },
  {
   "cell_type": "markdown",
   "id": "82478d2b",
   "metadata": {},
   "source": [
    "Our training set is made up of 28x28 grayscale images of handwritten digits.\n",
    "\n",
    "Let's visualize what some of these images and their corresponding training labels look like."
   ]
  },
  {
   "cell_type": "code",
   "execution_count": 14,
   "id": "8d8d9182",
   "metadata": {},
   "outputs": [
    {
     "name": "stdout",
     "output_type": "stream",
     "text": [
      "[4066 5902 3267 2753 3121 1817 5855 3560 5691 5906 2604 4336   82 2168\n",
      " 4269  977 2670  563 4515 5530 1172 3196 1005 5403 5821 1962 3139 5510\n",
      " 5565 3046 2554 4878 3479 1754 5869 1475]\n"
     ]
    }
   ],
   "source": [
    "print(random_inds)"
   ]
  },
  {
   "cell_type": "code",
   "execution_count": 19,
   "id": "25d8a60d",
   "metadata": {},
   "outputs": [
    {
     "data": {
      "text/plain": [
       "{'web': 'https://www.comet.com/api/image/download?imageId=44c6c2d8da90492e8b86a7f95b532bc7&experimentKey=ec50f6adfc924c15b5230da635c1af2f',\n",
       " 'api': 'https://www.comet.com/api/rest/v1/image/get-image?imageId=44c6c2d8da90492e8b86a7f95b532bc7&experimentKey=ec50f6adfc924c15b5230da635c1af2f',\n",
       " 'imageId': '44c6c2d8da90492e8b86a7f95b532bc7'}"
      ]
     },
     "execution_count": 19,
     "metadata": {},
     "output_type": "execute_result"
    },
    {
     "data": {
      "image/png": "[encoded data removed]",
      "text/plain": [
       "<Figure size 800x800 with 36 Axes>"
      ]
     },
     "metadata": {},
     "output_type": "display_data"
    }
   ],
   "source": [
    "plt.figure(figsize=(8, 8))\n",
    "random_inds = np.random.choice(6000, 36)\n",
    "for i in range(36):\n",
    "    plt.subplot(6, 6, i + 1)\n",
    "    plt.xticks([])\n",
    "    plt.yticks([])\n",
    "    plt.grid(False)\n",
    "    image_ind = random_inds[i]\n",
    "    image, label = train_dataset[image_ind]\n",
    "    plt.imshow(image.squeeze(), cmap=plt.cm.binary)\n",
    "    plt.xlabel(label)\n",
    "comet_model_1.log_figure(figure=plt)"
   ]
  },
  {
   "cell_type": "markdown",
   "id": "d375d947",
   "metadata": {},
   "source": [
    "1.2 Neural Network for Handwritten Digit Classification"
   ]
  },
  {
   "cell_type": "markdown",
   "id": "acd9efd8",
   "metadata": {},
   "source": [
    "We'll first build a simple neural network consisting of two fully connected layers and apply this to the digit classification task. Our network will ultimately output a probability distribution over the 10 digit classes (0-9)."
   ]
  },
  {
   "cell_type": "markdown",
   "id": "b6e52cc6",
   "metadata": {},
   "source": [
    "Fully connected Neural Network architecture"
   ]
  },
  {
   "cell_type": "markdown",
   "id": "fa135533",
   "metadata": {},
   "source": [
    "To define the architecture of this first Fully Connected Neural Network, we'll once again use the torch.nn modules, defining the model using nn.Sequential. Note how we first use a nn.Flatten layer, which flattens the input so that it can be fed into the model.\n",
    "\n",
    "In this next block, you'll define the fully connected layer of this simple network."
   ]
  },
  {
   "cell_type": "code",
   "execution_count": 22,
   "id": "f4927ca5",
   "metadata": {},
   "outputs": [],
   "source": [
    "def build_fc_model():\n",
    "    fc_model = nn.Sequential(\n",
    "        # First define a Flatten layer\n",
    "        nn.Flatten(),\n",
    "        # '''TODO''': Define the activation funtion for the first fully connected (Dense/Linear) layer.'''\n",
    "        nn.Linear(28*28, 128),\n",
    "        nn.ReLU(),      \n",
    "        #'''TODO: Define the second Linear layer to output the classification probabilities'''\n",
    "        nn.Linear(128, 10),\n",
    "    )\n",
    "    return fc_model\n",
    "\n",
    "fc_model_sequential = build_fc_model()"
   ]
  },
  {
   "cell_type": "markdown",
   "id": "27577798",
   "metadata": {},
   "source": [
    "As we progress through this next portion, you may find that you'll want to make changes to the architecture defined above. Note that in order to update the model later on, you'll need to re-run the above cell to re-initialize the model.\n",
    "\n",
    "Let's take a step back and think about the network we've just created. The first layer in this network nn.Flatten, transforms the format of the images from a 2d-array(28 x 28 pixels), to a 1d-array of 28*28 = 784 pixels. You can think of this layer as unstacking rows of pixels in the image and lining them up. There are no learned parameters in this layer; it only reformats the data.\n",
    "\n",
    "After the pixels are flattened, the network consists of a sequence of two nn.Linear layers. These are fully-connected neural layers. The first nn.Linear layer has 128 nodes (or neurons). The second (and last) layer (which you've defined!) should return an array of probability scores that sum to 1. Each node contains a score that indicates the probability that the current image belongs to one of the handwritten digit classes.\n",
    "\n",
    "That defines our fully connected model!"
   ]
  },
  {
   "cell_type": "markdown",
   "id": "1b3e49a0",
   "metadata": {},
   "source": [
    "Embracing subclassing in PyTorch"
   ]
  },
  {
   "cell_type": "markdown",
   "id": "b0e0b47b",
   "metadata": {},
   "source": [
    "Recall that in Lab 1, we explored creating more flexible models by subclassing nn.Module. This technique od defining models is more commonly used in PyTorch. We will practice using this approach of subclassing to define our models for the rest of the lab."
   ]
  },
  {
   "cell_type": "code",
   "execution_count": 23,
   "id": "8996ce5e",
   "metadata": {},
   "outputs": [
    {
     "name": "stderr",
     "output_type": "stream",
     "text": [
      "\u001b[1;38;5;196mCOMET ERROR:\u001b[0m Due to connectivity issues, there's an error in processing the heartbeat. The experiment's status updates might be inaccurate until the connection issues are resolved.\n"
     ]
    }
   ],
   "source": [
    "# Define the fully connected model\n",
    "class FullyConnectedModel(nn.Module):\n",
    "    def __init__(self):\n",
    "        super(FullyConnectedModel, self).__init__()\n",
    "        self.flatten = nn.Flatten()\n",
    "        self.fc1 = nn.Linear(28*28, 128)\n",
    "        \n",
    "        #'''TODO: Define the activation funtion for the first fully connected layer'''\n",
    "        self.relu = nn.ReLU()\n",
    "        \n",
    "        #'''TODO: Define the second Linear layer to output the classification probabilities'''\n",
    "        self.fc2 = nn.Linear(128, 10)\n",
    "        \n",
    "    def forward(self, x):\n",
    "        x = self.flatten(x)\n",
    "        x = self.fc1(x)\n",
    "        \n",
    "        #'''TODO: Implement the rest of forward pass of the model using the layers you have defined above'''\n",
    "        '''TODO'''\n",
    "        X = self.relu(x)\n",
    "        x = self.fc2(x)\n",
    "        \n",
    "        return x\n",
    "\n",
    "fc_model = FullyConnectedModel().to(device) # Send the model to the GPU"
   ]
  },
  {
   "cell_type": "markdown",
   "id": "cea27f7e",
   "metadata": {},
   "source": [
    "Model Metrics and Training Parameters"
   ]
  },
  {
   "cell_type": "markdown",
   "id": "599a88e5",
   "metadata": {},
   "source": []
  }
 ],
 "metadata": {
  "kernelspec": {
   "display_name": "mit-env-3-10",
   "language": "python",
   "name": "python3"
  },
  "language_info": {
   "codemirror_mode": {
    "name": "ipython",
    "version": 3
   },
   "file_extension": ".py",
   "mimetype": "text/x-python",
   "name": "python",
   "nbconvert_exporter": "python",
   "pygments_lexer": "ipython3",
   "version": "3.10.11"
  }
 },
 "nbformat": 4,
 "nbformat_minor": 5
}
