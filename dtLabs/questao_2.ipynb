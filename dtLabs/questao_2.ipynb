{
 "cells": [
  {
   "cell_type": "markdown",
   "id": "51dadb16",
   "metadata": {},
   "source": [
    "- Anthonny Dayvson Lino Paz\n",
    "- Questão 2"
   ]
  },
  {
   "cell_type": "code",
   "execution_count": 72,
   "id": "99887169",
   "metadata": {},
   "outputs": [],
   "source": [
    "import os\n",
    "import random\n",
    "import torch\n",
    "import torch.nn as nn\n",
    "import torch.optim as optim\n",
    "from torch.utils.data import Dataset, DataLoader\n",
    "from torchvision import transforms\n",
    "from PIL import Image\n",
    "import numpy as np\n",
    "import matplotlib.pyplot as plt\n",
    "from sklearn.metrics.pairwise import cosine_similarity"
   ]
  },
  {
   "cell_type": "code",
   "execution_count": 73,
   "id": "b9976db5",
   "metadata": {},
   "outputs": [],
   "source": [
    "class FaceDataset(Dataset):\n",
    "    def __init__(self, root_dir, transform=None):\n",
    "        self.root_dir = root_dir\n",
    "        self.transform = transform\n",
    "        self.image_paths = []\n",
    "        self.labels = []\n",
    "\n",
    "        for label, folder in enumerate(sorted(os.listdir(root_dir))):\n",
    "            folder_path = os.path.join(root_dir, folder)\n",
    "            for img in os.listdir(folder_path):\n",
    "                self.image_paths.append(os.path.join(folder_path, img))\n",
    "                self.labels.append(label)\n",
    "\n",
    "        self.label_to_name = {i: name for i, name in enumerate(sorted(os.listdir(root_dir)))}\n",
    "\n",
    "    def __len__ (self):\n",
    "        return len(self.image_paths)\n",
    "\n",
    "    def __getitem__(self, idx):\n",
    "        img_path = self.image_paths[idx]\n",
    "        label = self.labels[idx]\n",
    "        image = Image.open(img_path).convert('RGB')\n",
    "\n",
    "        if self.transform:\n",
    "            image = self.transform(image)\n",
    "\n",
    "        return image, label"
   ]
  },
  {
   "cell_type": "code",
   "execution_count": 74,
   "id": "cfcc4a92",
   "metadata": {},
   "outputs": [],
   "source": [
    "class EmbeddingNet(nn.Module):\n",
    "    def __init__(self):\n",
    "        super().__init__()\n",
    "        self.convnet = nn.Sequential(\n",
    "            nn.Conv2d(3, 32, 5), nn.ReLU(), nn.MaxPool2d(2),\n",
    "            nn.Conv2d(32, 64, 5), nn.ReLU(), nn.MaxPool2d(2)\n",
    "        )\n",
    "        self.fc = nn.Sequential(\n",
    "            nn.Linear(64 * 37 * 37, 256),\n",
    "            nn.ReLU(),\n",
    "            nn.Linear(256, 128)\n",
    "        )\n",
    "\n",
    "    def forward(self, x):\n",
    "        x = self.convnet(x)\n",
    "        x = x.view(x.size(0), -1)\n",
    "        return self.fc(x)"
   ]
  },
  {
   "cell_type": "code",
   "execution_count": 75,
   "id": "53c2dcac",
   "metadata": {},
   "outputs": [],
   "source": [
    "def generate_triplets(dataset):\n",
    "    triplets = []\n",
    "    class_to_idx = {}\n",
    "    for idx, (_, label) in enumerate(dataset):\n",
    "        class_to_idx.setdefault(label, []).append(idx)\n",
    "\n",
    "    for label, indices in class_to_idx.items():\n",
    "        if len(indices) < 2:\n",
    "            continue\n",
    "        anchor_positive = random.sample(list(zip(indices, indices[1:])), min(len(indices)-1, 2))\n",
    "\n",
    "        for anchor_idx, positive_idx in anchor_positive:\n",
    "            negative_label = random.choice([l for l in class_to_idx if l != label])\n",
    "            negative_idx = random.choice(class_to_idx[negative_label])\n",
    "            triplets.append((anchor_idx, positive_idx, negative_idx))\n",
    "    \n",
    "    return triplets\n"
   ]
  },
  {
   "cell_type": "code",
   "execution_count": 76,
   "id": "fc437780",
   "metadata": {},
   "outputs": [],
   "source": [
    "def treinar_modelo():\n",
    "    transform = transforms.Compose([\n",
    "        transforms.Resize((160, 160)),\n",
    "        transforms.ToTensor()\n",
    "    ])\n",
    "\n",
    "    dataset = FaceDataset('../dtLabs/post-processed', transform=transform)\n",
    "    model = EmbeddingNet()\n",
    "    criterion = nn.TripletMarginLoss(margin=1.0)\n",
    "    optimizer = optim.Adam(model.parameters(), lr=1e-3)\n",
    "\n",
    "    for epoch in range(5):\n",
    "        triplets = generate_triplets(dataset)\n",
    "        random.shuffle(triplets)\n",
    "        total_loss = 0.0\n",
    "\n",
    "        for anchor_idx, positive_idx, negative_idx in triplets:\n",
    "            anchor_img, _ = dataset[anchor_idx]\n",
    "            positive_img, _ = dataset[positive_idx]\n",
    "            negative_img, _ = dataset[negative_idx]\n",
    "\n",
    "            anchor = anchor_img.unsqueeze(0)\n",
    "            positive = positive_img.unsqueeze(0)\n",
    "            negative = negative_img.unsqueeze(0)\n",
    "\n",
    "            anchor_emb = model(anchor)\n",
    "            positive_emb = model(positive)\n",
    "            negative_emb = model(negative)\n",
    "\n",
    "            loss = criterion(anchor_emb, positive_emb, negative_emb)\n",
    "            optimizer.zero_grad()\n",
    "            loss.backward()\n",
    "            optimizer.step()\n",
    "\n",
    "            total_loss += loss.item()\n",
    "        print(f\"Epoch {epoch + 1}, Loss: {total_loss:.4f}\")\n",
    "    return model, dataset"
   ]
  },
  {
   "cell_type": "code",
   "execution_count": 77,
   "id": "d30735dd",
   "metadata": {},
   "outputs": [],
   "source": [
    "def criar_banco(model, dataset):\n",
    "    model.eval()\n",
    "    face_db = {}\n",
    "    with torch.no_grad():\n",
    "        for i in range(len(dataset)):\n",
    "            img, label = dataset[i]\n",
    "            img = img.unsqueeze(0).cuda()\n",
    "            emb = model(img).cpu().numpy().flatten()\n",
    "            name = dataset.label_to_name[label]\n",
    "            face_db[name] = emb\n",
    "    return face_db"
   ]
  },
  {
   "cell_type": "code",
   "execution_count": 78,
   "id": "76411ac5",
   "metadata": {},
   "outputs": [],
   "source": [
    "def get_embedding(model, img_path, transform):\n",
    "    image = Image.open(img_path).convert('RGB')\n",
    "    image = transform(image).unsqueeze(0).cuda()\n",
    "    with torch.no_grad():\n",
    "        emb = model(image).cpu().numpy().flatten()\n",
    "    return emb"
   ]
  },
  {
   "cell_type": "code",
   "execution_count": 79,
   "id": "fb162bf8",
   "metadata": {},
   "outputs": [],
   "source": [
    "def reconhecer(embedding_consulta, face_db):\n",
    "    scores = {none: cosine_similarity([embedding_consulta], [emb])[0][0] for nome, emb in face_db.items()}\n",
    "    nome_identificado = max(scores, key=scores.get)\n",
    "    return nome_identificado, scores[nome_identificado]"
   ]
  },
  {
   "cell_type": "code",
   "execution_count": null,
   "id": "beb53f07",
   "metadata": {},
   "outputs": [],
   "source": [
    "if __name__ == \"__main__\":\n",
    "    transform = transforms.Compose([\n",
    "        transforms.Resize((160, 160)),\n",
    "        transforms.ToTensor()\n",
    "    ])\n",
    "\n",
    "    model, dataset = treinar_modelo()\n",
    "\n",
    "    face_db = criar_banco(model, dataset)\n",
    "\n",
    "    emb_novo = get_embedding(model, '../dtLabs/marcelinho_no_db.jpg', transform)\n",
    "    face_db['Marcelinho'] = emb_novo\n",
    "\n",
    "    emb_mascara = get_embedding(model, './dtLabs/marcelinho_na_inferencia.jpg', transform)\n",
    "    nome, score = reconhecer(emb_mascara, face_db)\n",
    "\n",
    "    img = Image.open('./dtLabs/marcelinho_na_inferencia.jpg')\n",
    "    plt.imshow(img)\n",
    "    plt.title(f\"Reconhecido como: {nome}\\n Score: {score:.4f}\")\n",
    "    plt.axis(\"off\")\n",
    "    plt.show()"
   ]
  }
 ],
 "metadata": {
  "kernelspec": {
   "display_name": "deep-learn-3.11",
   "language": "python",
   "name": "python3"
  },
  "language_info": {
   "codemirror_mode": {
    "name": "ipython",
    "version": 3
   },
   "file_extension": ".py",
   "mimetype": "text/x-python",
   "name": "python",
   "nbconvert_exporter": "python",
   "pygments_lexer": "ipython3",
   "version": "3.11.0"
  }
 },
 "nbformat": 4,
 "nbformat_minor": 5
}
