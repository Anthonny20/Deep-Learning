{
 "cells": [
  {
   "cell_type": "markdown",
   "id": "eec1c786",
   "metadata": {},
   "source": [
    "Lab 1: Intro to Pytorch and Music Generation with RNNs"
   ]
  },
  {
   "cell_type": "markdown",
   "id": "e1e0212e",
   "metadata": {},
   "source": [
    "In this lab, you'll get exposure to using PyTorch and learn how it can be used for deep learning. Go through the code and run each cell.\n",
    "Along the way, you'll encouter several TODO blocks -- follow the instructions to fill them out before running those cells and continuing."
   ]
  },
  {
   "cell_type": "markdown",
   "id": "f8e2b4af",
   "metadata": {},
   "source": [
    "Part1: Intro to PyTorch"
   ]
  },
  {
   "cell_type": "markdown",
   "id": "580710f5",
   "metadata": {},
   "source": [
    "Pytorch is a popular deep learning library known for its flexibility and ease of use. Here we'll learn how computations are represented and how to define a simple neural network in PyTorch. For all the labs in Introduction to Deep Learning 2025, there will be a Pytorch version available.\n",
    "\n",
    "Let's install PyTorch and a couple of dependencies."
   ]
  },
  {
   "cell_type": "code",
   "execution_count": 1,
   "id": "800dfd03",
   "metadata": {},
   "outputs": [
    {
     "name": "stderr",
     "output_type": "stream",
     "text": [
      "c:\\Users\\anthonny.paz\\Documents\\GitHub\\Deep-Learning\\deep-learn-3.11\\Lib\\site-packages\\tqdm\\auto.py:21: TqdmWarning: IProgress not found. Please update jupyter and ipywidgets. See https://ipywidgets.readthedocs.io/en/stable/user_install.html\n",
      "  from .autonotebook import tqdm as notebook_tqdm\n"
     ]
    }
   ],
   "source": [
    "import torch\n",
    "import torch.nn as nn\n",
    "\n",
    "import mitdeeplearning as mdl\n",
    "\n",
    "import numpy as np\n",
    "import matplotlib.pyplot as plt"
   ]
  },
  {
   "cell_type": "markdown",
   "id": "3044f76a",
   "metadata": {},
   "source": [
    "1.1 What is PyTorch?"
   ]
  },
  {
   "cell_type": "markdown",
   "id": "31dabde5",
   "metadata": {},
   "source": [
    "Pytorch is a machine learning library, like TensorFlow. At it's core, PyTorch provides an interface for creating and manipulating tensors, which are data structures that you can think of as multi-dimensional arrays. Tensors are represented as n-dimensional arrays of base datatypes such as a string or integer -- they provide a way to generalize vectors and matrices to higher dimensions. PyTorch provides the ability to perform computation on these tensors, define neural networks, and train them efficiently.\n",
    "\n",
    "The shape of a PyTorch tensor defines its number of dimensions and the size of each dimension. The ndim or dim of a Pytorch tensor provides the number of dimensions (n-dimensions) --  this is equivalent to the tensor's rank(as is used in TensorFlow), and you can also think of this as the tensor's order or degree.\n",
    "\n",
    "Let's start by changing some tensors and inspecting their properties:"
   ]
  },
  {
   "cell_type": "code",
   "execution_count": 2,
   "id": "ef58d228",
   "metadata": {},
   "outputs": [
    {
     "name": "stdout",
     "output_type": "stream",
     "text": [
      "`Integer` is a 0-d Tensor: 1234\n",
      "`Decimal` is a 0-d Tensor: 3.1415927410125732\n"
     ]
    }
   ],
   "source": [
    "integer = torch.tensor(1234)\n",
    "decimal = torch.tensor(3.14159265359)\n",
    "\n",
    "print(f\"`Integer` is a {integer.ndim}-d Tensor: {integer}\")\n",
    "print(f\"`Decimal` is a {decimal.ndim}-d Tensor: {decimal}\")"
   ]
  },
  {
   "cell_type": "markdown",
   "id": "b5936e56",
   "metadata": {},
   "source": [
    "Vectors and lists can be used to create 1-d tensors:"
   ]
  },
  {
   "cell_type": "code",
   "execution_count": 3,
   "id": "d09ba4e5",
   "metadata": {},
   "outputs": [
    {
     "name": "stdout",
     "output_type": "stream",
     "text": [
      "`Fibonacci` is a 1-d Tensor with shape: torch.Size([6])\n",
      "`count_to_100` is a 1-d Tensor with shape: torch.Size([100])\n"
     ]
    }
   ],
   "source": [
    "fibonacci = torch.tensor([1, 1, 2, 3, 5, 8])\n",
    "count_to_100 = torch.tensor(range(100))\n",
    "\n",
    "print(f\"`Fibonacci` is a {fibonacci.ndim}-d Tensor with shape: {fibonacci.shape}\")\n",
    "print(f\"`count_to_100` is a {count_to_100.ndim}-d Tensor with shape: {count_to_100.shape}\")"
   ]
  },
  {
   "cell_type": "markdown",
   "id": "e6d78828",
   "metadata": {},
   "source": [
    "Next, let's create 2-d (i.e., matrices) and higher-rank tensors. In image processing and Computer Vision, we will use 4-d Tensors with dimensions corresponding to batch size, number of color channels, image height, and image width."
   ]
  },
  {
   "cell_type": "code",
   "execution_count": 4,
   "id": "697b488c",
   "metadata": {},
   "outputs": [
    {
     "name": "stdout",
     "output_type": "stream",
     "text": [
      "images is a 4-d Tensor with shape: torch.Size([10, 3, 256, 256])\n"
     ]
    }
   ],
   "source": [
    "### Defining higher-order Tensors ###\n",
    "'''TODO: Define a 2-d Tensor'''\n",
    "matrix = torch.tensor([[1, 2, 3], [4, 5, 6]])\n",
    "\n",
    "assert isinstance(matrix, torch.Tensor), \"matrix must be a torch Tensor object\"\n",
    "assert matrix.ndim == 2\n",
    "\n",
    "'''TODO: Define a 4-d Tensor'''\n",
    "# Use torch.zeros to initialize a 4-d Tensor of zeros with size 10 x 3 x 256 x 256.\n",
    "#   You can think of this as 10 images where each image is RGB 256 X 256.\n",
    "images = torch.zeros(10, 3, 256, 256)\n",
    "\n",
    "assert isinstance(images, torch.Tensor), \"images must be a torch Tensor object\"\n",
    "assert images.ndim == 4, \"images must have 4 dimensions\"\n",
    "assert images.shape == (10, 3, 256, 256), \"images is incorrect shape\"\n",
    "print(f\"images is a {images.ndim}-d Tensor with shape: {images.shape}\")\n"
   ]
  },
  {
   "cell_type": "markdown",
   "id": "bbc9fa8a",
   "metadata": {},
   "source": [
    "As you have seen, the shape of a tensor provides the number of elements in each tensor dimension. The shape is quite useful, and we'll use it often. You can also use slicing to access subtensors within a higher-rank tensor:"
   ]
  },
  {
   "cell_type": "code",
   "execution_count": 5,
   "id": "c25a0db4",
   "metadata": {},
   "outputs": [
    {
     "name": "stdout",
     "output_type": "stream",
     "text": [
      "row_vector: tensor([4, 5, 6])\n",
      "column_vector: tensor([2, 5])\n",
      "scalar: 2\n"
     ]
    }
   ],
   "source": [
    "row_vector = matrix[1]\n",
    "column_vector = matrix[:,1]\n",
    "scalar = matrix[0, 1]\n",
    "\n",
    "print(f\"row_vector: {row_vector}\")\n",
    "print(f\"column_vector: {column_vector}\")\n",
    "print(f\"scalar: {scalar}\")"
   ]
  },
  {
   "cell_type": "markdown",
   "id": "7ef5709b",
   "metadata": {},
   "source": [
    "Computations on Tensors"
   ]
  },
  {
   "cell_type": "markdown",
   "id": "0c392a7c",
   "metadata": {},
   "source": [
    "A convenient way to think about and visualize computations in a machine learning framework like PyTorch is in terms of graphs. We can define this graph in terms of tensors, which hold data, and the mathematical operations that act on these tensors im some order. Let's look at a simple example, and define this computation using PyTorch:"
   ]
  },
  {
   "cell_type": "code",
   "execution_count": 6,
   "id": "2ce4fd97",
   "metadata": {},
   "outputs": [
    {
     "name": "stdout",
     "output_type": "stream",
     "text": [
      "c1: 76\n",
      "c2: 76\n"
     ]
    }
   ],
   "source": [
    "# Create the nodes in the graph and initialize values\n",
    "a = torch.tensor(15)\n",
    "b = torch.tensor(61)\n",
    "\n",
    "# Add them!\n",
    "c1 = torch.add(a, b)\n",
    "c2 = a + b # PyTorch overrides the \"+\" operation so that it is able to act on Tensors\n",
    "print(f\"c1: {c1}\")\n",
    "print(f\"c2: {c2}\")"
   ]
  },
  {
   "cell_type": "markdown",
   "id": "3455542b",
   "metadata": {},
   "source": [
    "Notice how we've created a computation graph consisting of PyTorch operations, and how the output is a tensor with value 76 -- we've just created a computation graph consisting of operations, and it's executed them and given us back the result.\n",
    "\n",
    "Now let's consider a slightly more complicated example:"
   ]
  },
  {
   "cell_type": "markdown",
   "id": "00cafbf9",
   "metadata": {},
   "source": [
    "Here, we take two inputs, a, b, and compute an output e. Each node in the graph represents an operation that takes some input, does some computation, and passes its output to another node.\n",
    "\n",
    "Let's define a simple function in PyTorch to construct this computation function:"
   ]
  },
  {
   "cell_type": "code",
   "execution_count": 8,
   "id": "f06440cb",
   "metadata": {},
   "outputs": [],
   "source": [
    "### Defining Tensor computations ###\n",
    "# Construct a simple computation function\n",
    "def func(a, b):\n",
    "    '''TODO: Define the operation for c, d, e'''\n",
    "    c = torch.tensor(a) + torch.tensor(b)\n",
    "    d = torch.tensor(b) - torch.tensor(1)\n",
    "    e = torch.tensor(c) * torch.tensor(d)\n",
    "    return torch.tensor(e)"
   ]
  },
  {
   "cell_type": "markdown",
   "id": "2b8f7a0e",
   "metadata": {},
   "source": [
    "Now, we can call this function to execute the computaion graph given some inputs a, b:"
   ]
  },
  {
   "cell_type": "code",
   "execution_count": null,
   "id": "4aa4ff5b",
   "metadata": {},
   "outputs": [
    {
     "name": "stdout",
     "output_type": "stream",
     "text": [
      "e_out: 6.0\n"
     ]
    },
    {
     "name": "stderr",
     "output_type": "stream",
     "text": [
      "C:\\Users\\anthonny.paz\\AppData\\Local\\Temp\\ipykernel_4596\\3275148877.py:7: UserWarning: To copy construct from a tensor, it is recommended to use sourceTensor.detach().clone() or sourceTensor.detach().clone().requires_grad_(True), rather than torch.tensor(sourceTensor).\n",
      "  e = torch.tensor(c) * torch.tensor(d)\n",
      "C:\\Users\\anthonny.paz\\AppData\\Local\\Temp\\ipykernel_4596\\3275148877.py:8: UserWarning: To copy construct from a tensor, it is recommended to use sourceTensor.detach().clone() or sourceTensor.detach().clone().requires_grad_(True), rather than torch.tensor(sourceTensor).\n",
      "  return torch.tensor(e)\n"
     ]
    }
   ],
   "source": [
    "# Consider example values for a, b\n",
    "a, b = 1.5, 2.5\n",
    "# Execute the computation\n",
    "e_out = func(a, b)\n",
    "print(f\"e_out: {e_out}\")"
   ]
  },
  {
   "cell_type": "markdown",
   "id": "daf2449f",
   "metadata": {},
   "source": [
    "Notice how our output is a tensor with valu defined by the output of the computation, and that the output has no shape as it is a single scalar value."
   ]
  },
  {
   "cell_type": "markdown",
   "id": "3b6b99fa",
   "metadata": {},
   "source": [
    "1.3 Neural Networks in PyTorch"
   ]
  },
  {
   "cell_type": "markdown",
   "id": "d987e170",
   "metadata": {},
   "source": [
    "We can also define neural networks in PyTorch. PyTorch uses torch.nn.Module, which serves as a base class for all neural network modules in PyTorch and thus provides a framework for building and training neural networks.\n",
    "\n",
    "Let's consider the example of a simple perceptron defined by just one dense (aka fully-connected or linear) layer: y = (sigma)(Wx + b), where W represents a matrix of weights, b is a bias, x is the input, sigma os the sigmoid activation function, and y is the output.\n",
    "\n",
    "We will use torch.nn.Module to define layers -- the building blocks of neural networks. Layers implement common neural networks operations. In PyTorch, when we implement a layer, we subclass nn.Module and define the parameters of the layer as attributes of our new class. We also define and override a function forward, which will define the forward pass computation that is performed at every step. All classes subclassing nn.Module should override the forward function.\n",
    "\n",
    "Let's write a dense layer class to implement a perceptron defined above."
   ]
  },
  {
   "cell_type": "code",
   "execution_count": 23,
   "id": "4dca6f5b",
   "metadata": {},
   "outputs": [],
   "source": [
    "### Defining a dense layer###\n",
    "\n",
    "# num_inputs: number of input nodes\n",
    "# num_outputs: number of output nodes\n",
    "# x: input to the layer\n",
    "\n",
    "class OurDenseLayer(torch.nn.Module):\n",
    "    def __init__(self, num_inputs, num_outputs):\n",
    "        super(OurDenseLayer, self).__init__()\n",
    "        # Define and initialize parameters: a weight matrix W and bias b\n",
    "        # Note that the parameter initialize is random!\n",
    "        self.W = torch.nn.Parameter(torch.randn(num_inputs, num_outputs))\n",
    "        self.bias = torch.nn.Parameter(torch.randn(num_outputs))\n",
    "\n",
    "    def forward(self, x):\n",
    "        '''TODO: define the operation for z (hint: use torch.matmul).'''\n",
    "        z = torch.matmul(x, self.W) + self.bias\n",
    "\n",
    "        '''TODO: define the operation for out (hint: use torch.sigmoid)'''\n",
    "        y = torch.sigmoid(z)\n",
    "        return y"
   ]
  },
  {
   "cell_type": "markdown",
   "id": "8ec0f4ce",
   "metadata": {},
   "source": [
    "Now, let's test the output of our layer."
   ]
  },
  {
   "cell_type": "code",
   "execution_count": 24,
   "id": "c4d1b24f",
   "metadata": {},
   "outputs": [
    {
     "name": "stdout",
     "output_type": "stream",
     "text": [
      "input shape: torch.Size([1, 2])\n",
      "output shape: torch.Size([1, 3])\n",
      "output result: tensor([[0.9815, 0.7758, 0.3087]], grad_fn=<SigmoidBackward0>)\n"
     ]
    }
   ],
   "source": [
    "# Define a layer and test the output!\n",
    "\n",
    "num_inputs = 2\n",
    "num_outputs = 3\n",
    "layer = OurDenseLayer(num_inputs, num_outputs)\n",
    "x_input = torch.tensor([[1, 2.]])\n",
    "y = layer(x_input)\n",
    "\n",
    "print(f\"input shape: {x_input.shape}\")\n",
    "print(f\"output shape: {y.shape}\")\n",
    "print(f\"output result: {y}\")"
   ]
  }
 ],
 "metadata": {
  "kernelspec": {
   "display_name": "deep-learn-3.11",
   "language": "python",
   "name": "python3"
  },
  "language_info": {
   "codemirror_mode": {
    "name": "ipython",
    "version": 3
   },
   "file_extension": ".py",
   "mimetype": "text/x-python",
   "name": "python",
   "nbconvert_exporter": "python",
   "pygments_lexer": "ipython3",
   "version": "3.11.0"
  }
 },
 "nbformat": 4,
 "nbformat_minor": 5
}
