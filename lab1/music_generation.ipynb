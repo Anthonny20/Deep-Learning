{
 "cells": [
  {
   "cell_type": "markdown",
   "id": "127d106a",
   "metadata": {},
   "source": [
    "Part 2: Musig Generation with RNNs"
   ]
  },
  {
   "cell_type": "markdown",
   "id": "47d93fa3",
   "metadata": {},
   "source": [
    "In this position of the lab, we will explore building a Recurrent Neural Network (RNN) for music generation using PyTorch. We will train a model to learn the patterns in raw sheet musin in ABC notation and then use this model to generate new music."
   ]
  },
  {
   "cell_type": "markdown",
   "id": "b9059a73",
   "metadata": {},
   "source": [
    "2.1 Dependencies"
   ]
  },
  {
   "cell_type": "markdown",
   "id": "156cee4a",
   "metadata": {},
   "source": [
    "First, let's download the course repository, install dependencies, and import the relevant packages we'll need for this lab.\n",
    "\n",
    "We will be using Comet ML to track our model development and training runs. First, sign up for a Comet account at this link[https://www.comet.com/signup?utm_source=mit_dl&utm_medium=partner&utm_content=github].You will need to generate a new API Key, which you can find either in the first 'Get Started with Comet' page, under your account settings, or by pressing the '?' in the top right corner and the 'Quickstart Guide'. Enter this API Key as the global variable COMET_API_KEY."
   ]
  },
  {
   "cell_type": "code",
   "execution_count": 115,
   "id": "f0d50418",
   "metadata": {},
   "outputs": [],
   "source": [
    "import comet_ml\n",
    "# TODO: ENTER YOUR API KEY HERE! \n",
    "COMET_API_KEY = \"IfAOqB1pulTvZR0qAUE9qFPjW\"\n",
    "\n",
    "# Import PyTorch and other relevant libraries\n",
    "import torch\n",
    "import torch.nn as nn\n",
    "import torch.optim as optim\n",
    "import mitdeeplearning as mdl\n",
    "\n",
    "# Import all remaining packages\n",
    "import numpy as np\n",
    "import os\n",
    "import time\n",
    "import functools\n",
    "from IPython import display as ipythondisplay\n",
    "from tqdm import tqdm\n",
    "from scipy.io.wavfile import write\n",
    "from IPython.display import Audio"
   ]
  },
  {
   "cell_type": "code",
   "execution_count": 116,
   "id": "549b18f4",
   "metadata": {},
   "outputs": [
    {
     "name": "stdout",
     "output_type": "stream",
     "text": [
      "CUDA disponível: True\n",
      "Nome da GPU: NVIDIA GeForce RTX 3050 6GB Laptop GPU\n",
      "Versão CUDA: 12.1\n",
      "Versão PyTorch: 2.5.1+cu121\n"
     ]
    }
   ],
   "source": [
    "import torch\n",
    "\n",
    "print(\"CUDA disponível:\", torch.cuda.is_available())\n",
    "if torch.cuda.is_available():\n",
    "    print(\"Nome da GPU:\", torch.cuda.get_device_name(0))\n",
    "    print(\"Versão CUDA:\", torch.version.cuda)\n",
    "    print(\"Versão PyTorch:\", torch.__version__)\n",
    "\n"
   ]
  },
  {
   "cell_type": "code",
   "execution_count": 117,
   "id": "5f640e2f",
   "metadata": {},
   "outputs": [],
   "source": [
    "# Check that we are using a GPU, if not switch runtimes\n",
    "#   using Runtime > Change Runtime Type > GPU\n",
    "assert torch.cuda.is_available(), \"Please enable GPU from runtime settings\"\n",
    "assert COMET_API_KEY != \"\", \"Please insert your Comet API key\""
   ]
  },
  {
   "cell_type": "markdown",
   "id": "66a078cc",
   "metadata": {},
   "source": [
    "2.2 Dataset"
   ]
  },
  {
   "cell_type": "markdown",
   "id": "4a2b0dae",
   "metadata": {},
   "source": [
    "We've gathered a dataset of thousands of Irish folk songs, represented in the ABC notation. Let's download the dataset and inspect it:"
   ]
  },
  {
   "cell_type": "code",
   "execution_count": 118,
   "id": "0ed32623",
   "metadata": {},
   "outputs": [
    {
     "name": "stdout",
     "output_type": "stream",
     "text": [
      "Found 817 songs in text\n",
      "\n",
      "Example song:\n",
      "X:1\n",
      "T:Alexander's\n",
      "Z: id:dc-hornpipe-1\n",
      "M:C|\n",
      "L:1/8\n",
      "K:D Major\n",
      "(3ABc|dAFA DFAd|fdcd FAdf|gfge fefd|(3efe (3dcB A2 (3ABc|!\n",
      "dAFA DFAd|fdcd FAdf|gfge fefd|(3efe dc d2:|!\n",
      "AG|FAdA FAdA|GBdB GBdB|Acec Acec|dfaf gecA|!\n",
      "FAdA FAdA|GBdB GBdB|Aceg fefd|(3efe dc d2:|!\n"
     ]
    }
   ],
   "source": [
    "# Download the dataset\n",
    "songs = mdl.lab1.load_training_data()\n",
    "\n",
    "# Print one of the songs to inspect it in greater detail!\n",
    "example_song = songs[0]\n",
    "print(\"\\nExample song:\")\n",
    "print(example_song)"
   ]
  },
  {
   "cell_type": "markdown",
   "id": "97fe9583",
   "metadata": {},
   "source": [
    "We can easily convert a song in ABC notation to an audio waveform and play it back. Be patient for this conversion to run, it can take some time."
   ]
  },
  {
   "cell_type": "code",
   "execution_count": 119,
   "id": "0b106da5",
   "metadata": {},
   "outputs": [],
   "source": [
    "# Convert the ABC notation to audio file and listen to it\n",
    "mdl.lab1.play_song(example_song)"
   ]
  },
  {
   "cell_type": "markdown",
   "id": "cab79581",
   "metadata": {},
   "source": [
    "One important thing to think about is that this notation of music does not simply contain information on the notes being played, but additionally there is meta information such as the song title, key, and tempo. How does the number of different characters that are present in the text file impact the complexity of the learning problem? This will become important soon, when we generate a numerical representation for the text data."
   ]
  },
  {
   "cell_type": "code",
   "execution_count": 120,
   "id": "d211d3b1",
   "metadata": {},
   "outputs": [
    {
     "name": "stdout",
     "output_type": "stream",
     "text": [
      "There are 83 unique characters in the dataset\n"
     ]
    }
   ],
   "source": [
    "# Join our list of song strings into a single string containing all songs\n",
    "songs_joined = \"\\n\\n\".join(songs)\n",
    "\n",
    "# Find all unique characters in the joined string\n",
    "vocab = sorted(set(songs_joined))\n",
    "print(\"There are\", len(vocab), \"unique characters in the dataset\")"
   ]
  },
  {
   "cell_type": "markdown",
   "id": "bedf56ed",
   "metadata": {},
   "source": [
    "2.3 Process the dataset for the learning task"
   ]
  },
  {
   "cell_type": "markdown",
   "id": "603a99d5",
   "metadata": {},
   "source": [
    "Let's take a step back and consider our prediction tasks. We're trying to train an RNN model to learn patterns in ABC music, and then use this model to generate (i.e., predict) a new piece of music based on this learned information.\n",
    "\n",
    "Breaking this down, what we're really asking the model is: given a character, or a sequence of characters, what is the most problabe next character? We'll train the model to perform this task.\n",
    "\n",
    "To achieve this, we will input a sequence of characters to the model, and train the model predict the output, that is, the following character at each time step. RNNs maintain an internal state that depends on previously seen elements, so information about all characters seen up until a given moment will be taken into account in generating the prediction."
   ]
  },
  {
   "cell_type": "markdown",
   "id": "3601aec0",
   "metadata": {},
   "source": [
    "Vectorize the text"
   ]
  },
  {
   "cell_type": "markdown",
   "id": "9c91cf5f",
   "metadata": {},
   "source": [
    "Before we begin training our RNN model, we'll need to create a numerical representation of our text-based dataset. To do this, we'll generate two lookup tables: one that maps characters to numbers, and a second that maps numbers back to characters. Recall that we just identified the unique characters present in the text."
   ]
  },
  {
   "cell_type": "code",
   "execution_count": 121,
   "id": "83f3fb20",
   "metadata": {},
   "outputs": [],
   "source": [
    "### Define numerical representation of text ###\n",
    "\n",
    "# Create a mapping from character to unique index.\n",
    "#  For example, to get the index of the character \"d\",\n",
    "#   we can evaluate 'char2idx[\"d\"]'.\n",
    "char2idx = {u: i for i, u in enumerate(vocab)}\n",
    "\n",
    "# Create a mapping from indices to characters. This is\n",
    "#   the inverse of char2idx and allows us to convert back\n",
    "#   from unique index to the character in our vocabulary.\n",
    "idx2char = np.array(vocab)"
   ]
  },
  {
   "cell_type": "markdown",
   "id": "5460b949",
   "metadata": {},
   "source": [
    "This gives us an integer representation for each character. Observe that the unique characters(i.e., our vocabulary) in the text are mapped as indices from 0 to len(unique). Let's take a peek at this numerical representation of our dataset:"
   ]
  },
  {
   "cell_type": "code",
   "execution_count": 122,
   "id": "71a32e39",
   "metadata": {},
   "outputs": [
    {
     "name": "stdout",
     "output_type": "stream",
     "text": [
      "{\n",
      "     '\\n':   0,\n",
      "     ' ' :   1,\n",
      "     '!' :   2,\n",
      "     '\"' :   3,\n",
      "     '#' :   4,\n",
      "     \"'\" :   5,\n",
      "     '(' :   6,\n",
      "     ')' :   7,\n",
      "     ',' :   8,\n",
      "     '-' :   9,\n",
      "     '.' :  10,\n",
      "     '/' :  11,\n",
      "     '0' :  12,\n",
      "     '1' :  13,\n",
      "     '2' :  14,\n",
      "     '3' :  15,\n",
      "     '4' :  16,\n",
      "     '5' :  17,\n",
      "     '6' :  18,\n",
      "     '7' :  19,\n",
      " ...\n",
      "}\n"
     ]
    }
   ],
   "source": [
    "print('{')\n",
    "for char, _ in zip(char2idx, range(20)):\n",
    "    print('     {:4s}: {:3d},'.format(repr(char), char2idx[char]))\n",
    "print(' ...\\n}')"
   ]
  },
  {
   "cell_type": "code",
   "execution_count": 123,
   "id": "e153946c",
   "metadata": {},
   "outputs": [],
   "source": [
    "### Vectorize the songs strings ###\n",
    "\n",
    "'''TODO: Write a function to convert the all songs string to a vectorized\n",
    "    (i.e., numeric) representation. Use the approprieate mapping\n",
    "    above to convert from vocab characters to the corresponding indices.\n",
    "    \n",
    "   NOTE: The output of the `vectorize_string` function\n",
    "   should be a np.array with `N` elements, where `N` is\n",
    "   the number of characters in the input string\n",
    "   '''\n",
    "\n",
    "def vectorize_string(string):\n",
    "    '''TODO'''\n",
    "    vectorize_string = np.array([char2idx[char] for char in string])\n",
    "    return vectorize_string\n",
    "    \n",
    "\n",
    "vectorized_songs = vectorize_string(songs_joined)"
   ]
  },
  {
   "cell_type": "markdown",
   "id": "9966cc49",
   "metadata": {},
   "source": [
    "We can also look at how the first part of the text is mapped to an integer representation:"
   ]
  },
  {
   "cell_type": "code",
   "execution_count": 124,
   "id": "ffc5a6e0",
   "metadata": {},
   "outputs": [
    {
     "name": "stdout",
     "output_type": "stream",
     "text": [
      "'X:1\\nT:Alex' ---- characters mapped to int ----> [49 22 13  0 45 22 26 67 60 79]\n"
     ]
    }
   ],
   "source": [
    "print('{} ---- characters mapped to int ----> {}'.format(repr(songs_joined[:10]), vectorized_songs[:10]))\n",
    "# Check that vectorizedd_songs is a numpy array\n",
    "assert isinstance(vectorized_songs, np.ndarray), \"returned result should be a numpy array\""
   ]
  },
  {
   "cell_type": "markdown",
   "id": "660a85b0",
   "metadata": {},
   "source": [
    "Create training examples and targets"
   ]
  },
  {
   "cell_type": "markdown",
   "id": "f72a16fe",
   "metadata": {},
   "source": [
    "Our next step is to actually divide the text into example sequences that we'll use during training. Each input sequence that we feed into our RNN will contain seq_length characters from the text. We'll also need to define a target sequence for each input sequence, which will be used in training the RNN to predict the next character. For each input, the corresponding target will contain the same length of text, except shifted one character to the right.\n",
    "\n",
    "Todo this, we'll break the text into chuncks of seq_length+1. Suppose seq_length is 4 and our text is \"Hello\". Then, our input sequence is \"Hell\" and the target sequence is \"ello\".\n",
    "\n",
    "The batch method will them let us convert this stream of character indices to sequences od the desired size."
   ]
  },
  {
   "cell_type": "code",
   "execution_count": 125,
   "id": "b5033043",
   "metadata": {},
   "outputs": [
    {
     "name": "stdout",
     "output_type": "stream",
     "text": [
      "Batch function works correctly\n"
     ]
    }
   ],
   "source": [
    "### Batch definition to create training examples ###\n",
    "\n",
    "def get_batch(vectorized_songs, seq_length, batch_size):\n",
    "    # the length of the vectorized songs string\n",
    "    n = vectorized_songs.shape[0] - 1\n",
    "    # randomly choose the starting indices for the examples in the training batch\n",
    "    idx = np.random.choice(n - seq_length, batch_size)\n",
    "    \n",
    "    '''TODO: construct a list of input sequences for the training batch'''\n",
    "    input_batch = [vectorized_songs[i: i + seq_length] for i in idx]\n",
    "    '''NOTE: Isso é uma list comprehension -- uma forma compacta de criar listas em Python\n",
    "        Componentes da Expressão:\n",
    "            -   vectorize_songs[i:i + seq_length]:\n",
    "                    Isso é um fatiamento (slicing) da lista(ou array) vectorize_songs, começando do índice i\n",
    "                    e indo até i + seq_length(não inclui o final).\n",
    "            -   for i in idx:\n",
    "                    Um loop sobre os elementos de idx.\n",
    "        O que a linhas faz?\n",
    "            -   Para cada valor de i em idx, ela pega um pedaço(slice) de vectorize_songs que vai de i até i + seq_length,\n",
    "                e coloca esse pedaço como um elemento de uma nova lista.'''\n",
    "        \n",
    "    \n",
    "    '''TODO : construct a list of output sequences for the training batch'''\n",
    "    output_batch = [vectorized_songs[i + 1: i + seq_length + 1] for i in idx]\n",
    "    \n",
    "    # Convert th input and output batches to tensors\n",
    "    x_batch = torch.tensor(input_batch, dtype=torch.long)\n",
    "    y_batch = torch.tensor(output_batch, dtype=torch.long)\n",
    "    \n",
    "    return x_batch, y_batch\n",
    "\n",
    "# Perform some simple tests to make sure your batch function is working properly!\n",
    "test_args = (vectorized_songs, 10, 2)\n",
    "x_batch, y_batch = get_batch(*test_args)\n",
    "assert x_batch.shape == (2, 10), \"x_batch shape is incorrect\"\n",
    "assert y_batch.shape == (2, 10), \"y_batch shape is incorrect\"\n",
    "print(\"Batch function works correctly\")\n",
    "    "
   ]
  },
  {
   "cell_type": "markdown",
   "id": "ee966f6e",
   "metadata": {},
   "source": [
    "For each of these vectors, each index is processed at a single time step. So, for the input at time step 0, the model receives the index for the first character in the sequence, and tries to predict the index of the next character. At the next timestep, it does the same thing, but the RNN considers the information from the previous step, i.e., its updated state, in addition to the current input.\n",
    "\n",
    "We can make this concrete by taking a look at how this works over the first several characters in our text:"
   ]
  },
  {
   "cell_type": "code",
   "execution_count": 126,
   "id": "f0fe1c9d",
   "metadata": {},
   "outputs": [
    {
     "name": "stdout",
     "output_type": "stream",
     "text": [
      "Step   0\n",
      "     input:1 (np.str_(' '))\n",
      "     expected output: 60 (np.str_('e'))\n",
      "Step   1\n",
      "     input:60 (np.str_('e'))\n",
      "     expected output: 59 (np.str_('d'))\n",
      "Step   2\n",
      "     input:59 (np.str_('d'))\n",
      "     expected output: 27 (np.str_('B'))\n",
      "Step   3\n",
      "     input:27 (np.str_('B'))\n",
      "     expected output: 82 (np.str_('|'))\n",
      "Step   4\n",
      "     input:82 (np.str_('|'))\n",
      "     expected output: 59 (np.str_('d'))\n"
     ]
    }
   ],
   "source": [
    "x_batch, y_batch = get_batch(vectorized_songs, seq_length=5, batch_size=1)\n",
    "\n",
    "for i, (input_idx, target_idx) in enumerate (zip(x_batch[0], y_batch[0])):\n",
    "    print(\"Step {:3d}\".format(i))\n",
    "    print(\"     input:{} ({:s})\".format(input_idx, repr(idx2char[input_idx.item()])))\n",
    "    print(\"     expected output: {} ({:s})\".format(target_idx, repr(idx2char[target_idx.item()])))"
   ]
  },
  {
   "cell_type": "markdown",
   "id": "09bfce2a",
   "metadata": {},
   "source": [
    "2.4 The Recurrent Neural Network (RNN) Model"
   ]
  },
  {
   "cell_type": "markdown",
   "id": "11104a2e",
   "metadata": {},
   "source": [
    "Now we're ready to define and train an RNN on our ABC music dataset, and then use that trained model to generate a new song.\n",
    "We'll traing our RNN using batches of song snippets from our dataset, which we generated in the previous section.\n",
    "\n",
    "The model is based off the LSTM architecture, where we use a state vector to maintain information about the temporal relationships between consecutive characters. The final output of the LSTM is then fed into a fully connected linear nn.Linear layer where we'll output a softmax over each character in the vocabulary, and then sample from this distribution to predict the next character.\n",
    "\n",
    "As we introduced in the first portion of this lab, we'll be using PyTorch's nn.Module to define the model. Three components are used to define the model:\n",
    "\n",
    "    - nn.Embedding: This is the input layer, consisting of a trainable lookup table that maps the numbers of each character to a vector with embedding_dim dimensions.\n",
    "    - nn.LSTM: Our LSTM network, with size hidden_size.\n",
    "    - nn.Linear: The output layer, with vocab_size outputs."
   ]
  },
  {
   "cell_type": "markdown",
   "id": "b1726f81",
   "metadata": {},
   "source": [
    "Define the RNN Model"
   ]
  },
  {
   "cell_type": "markdown",
   "id": "097fae07",
   "metadata": {},
   "source": [
    "Let's define our model as an nn.Module. Fill in the TODOs to define the RNN model."
   ]
  },
  {
   "cell_type": "code",
   "execution_count": 127,
   "id": "980c55c7",
   "metadata": {},
   "outputs": [],
   "source": [
    "### Define the RNN Model ###\n",
    "\n",
    "'''TODO: Add LSTM and Linear layers to define the RNN model using nn.Module'''\n",
    "class LSTMModel(nn.Module):\n",
    "    def __init__(self, vocab_size, embedding_dim, hidden_size):\n",
    "        super(LSTMModel, self).__init__()\n",
    "        self.hidden_size = hidden_size\n",
    "        \n",
    "        # Define each of the network layers\n",
    "        #  Layer 1: Embedding layer to transform indices into dense vectors\n",
    "        #   of a fixed embedding\n",
    "        self.embedding = nn.Embedding(vocab_size, embedding_dim)\n",
    "        \n",
    "        '''TODO Layer 2: LSTM with hidden_size `hidden_size`. NOTE: number of layers defaults to 1.\n",
    "        #Use the nn.LSTM() module from PyTorch.'''\n",
    "        self.lstm = nn.LSTM(embedding_dim, hidden_size, batch_first=True)\n",
    "        \n",
    "        '''TODO: Layer 3: Linear (fully-connected) layer that transforms the LSTM output\n",
    "        #   into the vocabulary size'''\n",
    "        self.fc = nn.Linear(hidden_size, vocab_size)\n",
    "        \n",
    "    def init_hidden(self, batch_size, device):\n",
    "        # Initialize hidden state and cell state with zeros\n",
    "        return (torch.zeros(1, batch_size, self.hidden_size).to(device),\n",
    "                torch.zeros(1, batch_size, self.hidden_size).to(device))\n",
    "        \n",
    "    def forward(self, x, state=None, return_state = False):\n",
    "        x = self.embedding(x)\n",
    "        \n",
    "        if state is None:\n",
    "            state = self.init_hidden(x.size(0), x.device)\n",
    "        out, state = self.lstm(x, state)\n",
    "        \n",
    "        out = self.fc(out)\n",
    "        return out if not return_state else (out, state)      \n",
    "        \n",
    "        "
   ]
  },
  {
   "cell_type": "markdown",
   "id": "dc1eab84",
   "metadata": {},
   "source": [
    "The time has come! Let's instantiate the model!!"
   ]
  },
  {
   "cell_type": "code",
   "execution_count": 128,
   "id": "d466f8be",
   "metadata": {},
   "outputs": [
    {
     "name": "stdout",
     "output_type": "stream",
     "text": [
      "LSTMModel(\n",
      "  (embedding): Embedding(83, 256)\n",
      "  (lstm): LSTM(256, 1024, batch_first=True)\n",
      "  (fc): Linear(in_features=1024, out_features=83, bias=True)\n",
      ")\n"
     ]
    }
   ],
   "source": [
    "# Instantiate the model! Build a simple model with default hyperparameters. You\n",
    "#   will get the chance to change these later.\n",
    "vocab_size = len(vocab)\n",
    "embedding_dim = 256\n",
    "hidden_size = 1024\n",
    "batch_size = 8\n",
    "\n",
    "device = torch.device(\"cuda\" if torch.cuda.is_available() else \"cpu\")\n",
    "\n",
    "model = LSTMModel(vocab_size, embedding_dim, hidden_size).to(device)\n",
    "\n",
    "# Print out a summary of the model\n",
    "print(model)"
   ]
  },
  {
   "cell_type": "markdown",
   "id": "c22d7798",
   "metadata": {},
   "source": [
    "Test out the RNN model"
   ]
  },
  {
   "cell_type": "markdown",
   "id": "fbe2318a",
   "metadata": {},
   "source": [
    "It's always a good idea to run a few simple checks on our model to see that it behaves as expected.\n",
    "\n",
    "We can quickly check the layers in the model, the shape of the output of each of the layers, the batch size, and the dimensionality of the output. Note that the model can be run on inputs of any length."
   ]
  },
  {
   "cell_type": "code",
   "execution_count": 129,
   "id": "9382e9b7",
   "metadata": {},
   "outputs": [
    {
     "name": "stdout",
     "output_type": "stream",
     "text": [
      "Input shape:      torch.Size([32, 100])  # (batch_size, sequence_length)\n",
      "Prediction shape:  torch.Size([32, 100, 83]) # (batch_size, sequence_length, vocab_size)\n"
     ]
    }
   ],
   "source": [
    "# Test the model with some sample data\n",
    "x, y = get_batch(vectorized_songs, seq_length=100, batch_size=32)\n",
    "x = x.to(device)\n",
    "y = y.to(device)\n",
    "\n",
    "pred = model(x)\n",
    "print(\"Input shape:     \", x.shape, \" # (batch_size, sequence_length)\")\n",
    "print(\"Prediction shape: \", pred.shape, \"# (batch_size, sequence_length, vocab_size)\")"
   ]
  },
  {
   "cell_type": "markdown",
   "id": "1b2ef87b",
   "metadata": {},
   "source": [
    "Predictions from the untrained model"
   ]
  },
  {
   "cell_type": "markdown",
   "id": "fb334e96",
   "metadata": {},
   "source": [
    "Let's take a look at what our untrained model is predicting.\n",
    "\n",
    "To get actual predictions from the model, we sample from the output distribution, which is defined by a torch.softmax over our character vocabulary. This will give us actual character indices. This means we are using a categorical distribution to sample over the example prediction. This gives a prediction of the next character (specifically its index) at each timestep. torch.multinomial samples over a categorical distribution to generate predictions.\n",
    "\n",
    "Note here that we sample from this probability distribution, as opposed to simply taking the argmax, which can cause the model to get stuck in a repetitive loop.\n",
    "\n",
    "Let's try this sampling out for the first example in the batch."
   ]
  },
  {
   "cell_type": "code",
   "execution_count": 130,
   "id": "f8193151",
   "metadata": {},
   "outputs": [
    {
     "data": {
      "text/plain": [
       "array([ 5, 72, 47, 50, 10, 77, 79, 17, 51, 59, 19, 73, 59, 68, 42, 47, 74,\n",
       "       70,  1,  4, 65, 57, 78, 37, 43, 80,  9, 62,  9, 31, 77, 64,  5, 21,\n",
       "       18, 52, 76, 10, 72,  4, 73, 33, 60, 69, 50, 42, 66, 41, 41, 14, 71,\n",
       "       39, 35, 12, 18,  0, 19, 57,  1, 55, 23, 45, 21, 43, 58, 20, 28, 18,\n",
       "       72, 15,  0, 49, 66, 37, 39, 60, 51, 33, 82, 79, 51, 76, 68, 34, 12,\n",
       "       46, 63, 32, 63, 70, 22, 42, 72, 21, 31, 80,  9, 50, 77, 23])"
      ]
     },
     "execution_count": 130,
     "metadata": {},
     "output_type": "execute_result"
    }
   ],
   "source": [
    "sampled_indices = torch.multinomial(torch.softmax(pred[0], dim=-1), num_samples=1)\n",
    "sampled_indices = sampled_indices.squeeze(-1).cpu().numpy()\n",
    "sampled_indices"
   ]
  },
  {
   "cell_type": "markdown",
   "id": "6cf1de2b",
   "metadata": {},
   "source": [
    "We can now decode these to see the text predicted by the untrained model"
   ]
  },
  {
   "cell_type": "code",
   "execution_count": 131,
   "id": "16bc0173",
   "metadata": {},
   "outputs": [
    {
     "name": "stdout",
     "output_type": "stream",
     "text": [
      "Input: \n",
      " '2 gefd|edBd egfe|dBB2 gefd|efdB A3:|!\\ne|faaf gefd|edBd egfe|faaf gefd|efdB A3|!\\ne|faaf gefd|edBd egf'\n",
      "\n",
      "Next char Predictions: \n",
      " \"'qVY.vx5Zd7rdmQVso #jbwLRy-g-Fvi'96[u.q#rHenYQkPP2pNJ06\\n7b _<T9Rc8C6q3\\nXkLNeZH|xZumI0UhGho:Qq9Fy-Yv<\"\n"
     ]
    }
   ],
   "source": [
    "print(\"Input: \\n\", repr(\"\".join(idx2char[x[0].cpu()])))\n",
    "print()\n",
    "print(\"Next char Predictions: \\n\", repr(\"\".join(idx2char[sampled_indices])))\n"
   ]
  },
  {
   "cell_type": "markdown",
   "id": "490e9e20",
   "metadata": {},
   "source": [
    "As you can see, the text predicted by the untrained model is pretty nonsensical! How can we do better? Well, we can train the network!"
   ]
  },
  {
   "cell_type": "markdown",
   "id": "c782cba3",
   "metadata": {},
   "source": [
    "2.5 Training the model: loss and training operations"
   ]
  },
  {
   "cell_type": "markdown",
   "id": "cfe40674",
   "metadata": {},
   "source": [
    "Now it's time to train the model!\n",
    "\n",
    "At this point, we can think of our next character prediction problem as a standard classification problem. Given the previous state of the RNN, as well as the input at a given time step, we want to predict the class of the next character -- that is, to actually predict the next character.\n",
    "\n",
    "To train our model on this classification task, we can use a form of the croosentropy loss (i.e., negative log likehood loss). Specifically, we will use PyTorch's CrossEntropyLoss, as it combines the application of a log-softmax(LogSoftMax) and negative log-likelihood (NLLLoss in a single class and accepts integer targets for categorical classification tasks. We will want to compute the loss using the true targets -- the labels -- and the predicted targets -- the logits).\n",
    "\n",
    "Let's define a function to compute the loss, and the use that function to compute the loss using our example predictions from the untrained model."
   ]
  },
  {
   "cell_type": "code",
   "execution_count": 132,
   "id": "9839a64f",
   "metadata": {},
   "outputs": [],
   "source": [
    "### Defining the loss function ###\n",
    "\n",
    "# '''TODO: define the compute_loss function to compute and return the loss between\n",
    "#       the true lables and predicitons (logits).'''\n",
    "cross_entropy = nn.CrossEntropyLoss() # instantiates the function\n",
    "def compute_loss(labels, logits):\n",
    "    \"\"\"\n",
    "    Inputs:\n",
    "    labels: (batch_size, sequence_length)\n",
    "    logits: (batch_Size, sequence_length)\n",
    "\n",
    "    Output:\n",
    "        loss: scalar cross entropy loss over the batch and sequence length\n",
    "    \"\"\"\n",
    "    \n",
    "    # Batch the labels so that the shape of the labels should be (B * L,)\n",
    "    batched_labels = labels.view(-1)\n",
    "    \n",
    "    '''TODO: Batch the logits so that the shape of the logits should be (B * L, V)'''\n",
    "    batched_logits = logits.view(-1, logits.size(-1))\n",
    "    \n",
    "    '''TODO: Compute the cross-entropy loss using the batchend next characters and predictions'''\n",
    "    loss = cross_entropy(batched_logits, batched_labels)\n",
    "    \n",
    "    return loss"
   ]
  },
  {
   "cell_type": "code",
   "execution_count": 133,
   "id": "ec093de3",
   "metadata": {},
   "outputs": [
    {
     "name": "stdout",
     "output_type": "stream",
     "text": [
      "Prediction shape: torch.Size([32, 100, 83]) # (batch_size, sequence_length, vocab_size)\n",
      "scalar_loss:      4.427428245544434\n"
     ]
    }
   ],
   "source": [
    "### compute the loss on the predictions from the untrained model from earlier. ###\n",
    "y.shape # (batch_size, sequence_length)\n",
    "pred.shape # (batch_size, sequence_length, vocab_size)\n",
    "\n",
    "'''TODO: compute the loss using the true next characters from the example batch\n",
    "    and the predictions from the untrained model several cells above'''\n",
    "\n",
    "example_batch_loss = compute_loss(y, pred)\n",
    "\n",
    "print(f\"Prediction shape: {pred.shape} # (batch_size, sequence_length, vocab_size)\")\n",
    "print(f\"scalar_loss:      {example_batch_loss.mean().item()}\")"
   ]
  },
  {
   "cell_type": "markdown",
   "id": "89cb6bcc",
   "metadata": {},
   "source": [
    "Let's start by defining some hyperparameters for training the model. To start, we have provided some reasonable values for some of the parameters. It is up to you to use what we've learned in class to help optimize the parameter selection here!"
   ]
  },
  {
   "cell_type": "code",
   "execution_count": 134,
   "id": "e3a459cc",
   "metadata": {},
   "outputs": [],
   "source": [
    "### Hyperparameter setting and optimization ###\n",
    "\n",
    "vocab_size = len(vocab)\n",
    "\n",
    "# Model parameters:\n",
    "params = dict(\n",
    "    num_training_iterations = 3000, # Increase this to train longer\n",
    "    batch_size = 8,                 # Experiment between 1 and 64\n",
    "    seq_length = 100,                # Experiment between 50 and 500\n",
    "    learning_rate = 5e-3,           # Experiment between 1e-5 and 1e-1\n",
    "    embedding_dim = 256,\n",
    "    hidden_size = 1024,             # Experiment between 1 and 2048\n",
    ")\n",
    "\n",
    "# Checkpoint location:\n",
    "checkpoint_dir = './lab1/models'\n",
    "checkpoint_prefix = os.path.join(checkpoint_dir, \"my_ckpt\")\n",
    "os.makedirs(checkpoint_dir, exist_ok=True)"
   ]
  },
  {
   "cell_type": "markdown",
   "id": "5aedaace",
   "metadata": {},
   "source": [
    "Having defined our hyperparameters we can set up for experiment tracking with Comet. Experiment are the core objects in Comet and will allow us to track training and model development. Here we have written a short function to create a new Comet experiment. Note that in this setup, when hyperparameters change, you can run the create_experiment() fucntion to initiate a new experiment. All experiments defined with the same project_name will live under that project in your Comet interface."
   ]
  },
  {
   "cell_type": "code",
   "execution_count": 135,
   "id": "7089e14f",
   "metadata": {},
   "outputs": [],
   "source": [
    "### Create a Comet experiment to track our training run ###\n",
    "\n",
    "def create_experiment():\n",
    "    # end any prior experiments\n",
    "    if 'experiment' in locals():\n",
    "        experiment.end()\n",
    "        \n",
    "    # initiate the comet experiment for tracking\n",
    "    experiment = comet_ml.Experiment(\n",
    "                    api_key=COMET_API_KEY,\n",
    "                    project_name=\"Anthonny20-MIT-Deep_Learning-lab1_Part2\")\n",
    "    # log out hyperparameters, defined above, to the experiment\n",
    "    for param, value in params.items():\n",
    "        experiment.log_parameter(param, value)\n",
    "    experiment.flush()\n",
    "    \n",
    "    return experiment"
   ]
  },
  {
   "cell_type": "markdown",
   "id": "040ab707",
   "metadata": {},
   "source": [
    "Now, we're ready yo define our training operation--the optimizer and duration of training--and use this function to train the model.\n",
    "You will experiment with the choice of optimizer and the duration for which you train your models, and see how these changes affect the network's output. Some optimizers you may like to try are Adam and Adagrad.\n",
    "\n",
    "First, we will instatiate a new model and an optimizer, and ready them for training. Then, we will use loss.backward(), enabled by PyTorch's autograd method, to perform the backpropagation. Finally, to update the model's parameters based on the computed gradients, we will utake a step with the optimizer, using optmizer.step().\n",
    "\n",
    "We will also generate a print-out of the model's progress through training, which will help us easily visualize whether or not we are minimizing the loss."
   ]
  },
  {
   "cell_type": "code",
   "execution_count": 136,
   "id": "bbe585f2",
   "metadata": {},
   "outputs": [],
   "source": [
    "### Define optimizer and training operation ###\n",
    "\n",
    "'''TODO: instantiate a new LSTMModel model for training using hyperparameters\n",
    "    created above'''\n",
    "    \n",
    "model = LSTMModel(vocab_size, params[\"embedding_dim\"], params[\"hidden_size\"])\n",
    "\n",
    "# Move the to the GPU\n",
    "model.to(device)\n",
    "\n",
    "'''TODO: instantiate an optimizer with its learning rate.\n",
    "    Checkout the PyTorch website for a list of supported optimizers.\n",
    "    https://pytorch.org/docs/stable/optim.html\n",
    "    Try using the Adam optimizer to start'''\n",
    "    \n",
    "optimizer = torch.optim.Adam(model.parameters(), lr=params['learning_rate'])\n",
    "\n",
    "def train_step(x, y):\n",
    "    # Set the model's mode to train\n",
    "    model.train()\n",
    "    \n",
    "    # Zero gradients for every step\n",
    "    optimizer.zero_grad()\n",
    "    \n",
    "    # Forward pass\n",
    "    '''TODO: feed the current input into the model and generate predictions'''\n",
    "    y_hat = model(x)\n",
    "    \n",
    "    # Compute the loss\n",
    "    '''TODO: Compute the loss!'''\n",
    "    loss = compute_loss(y, y_hat)\n",
    "    \n",
    "    # Backward pass\n",
    "    '''TODO: complete the gradient computation and update step.\n",
    "        Remember that in PyTorch there are two steps to the training loop:\n",
    "        1. Backpropagate the loss\n",
    "        2. Update the model parameters using optimizer'''\n",
    "        \n",
    "    loss.backward()\n",
    "    optimizer.step()\n",
    "    \n",
    "    return loss"
   ]
  },
  {
   "cell_type": "code",
   "execution_count": 137,
   "id": "d5806576",
   "metadata": {},
   "outputs": [
    {
     "data": {
      "image/png": "[encoded data removed]",
      "text/plain": [
       "<Figure size 640x480 with 1 Axes>"
      ]
     },
     "metadata": {},
     "output_type": "display_data"
    },
    {
     "name": "stderr",
     "output_type": "stream",
     "text": [
      "100%|██████████| 3000/3000 [01:39<00:00, 30.09it/s]\n",
      "\u001b[1;38;5;39mCOMET INFO:\u001b[0m Uploading 7109 metrics, params and output messages\n"
     ]
    },
    {
     "data": {
      "text/plain": [
       "True"
      ]
     },
     "execution_count": 137,
     "metadata": {},
     "output_type": "execute_result"
    },
    {
     "data": {
      "image/png": "[encoded data removed]",
      "text/plain": [
       "<Figure size 640x480 with 1 Axes>"
      ]
     },
     "metadata": {},
     "output_type": "display_data"
    }
   ],
   "source": [
    "##################\n",
    "# Begin training!#\n",
    "##################\n",
    "\n",
    "history = []\n",
    "plotter = mdl.util.PeriodicPlotter(sec=2, xlabel='Iterations', ylabel='Loss')\n",
    "experiment = create_experiment()\n",
    "\n",
    "if hasattr(tqdm, '_instances'): tqdm._instances.clear() # clear if it exists\n",
    "for iter in tqdm(range(params[\"num_training_iterations\"])):\n",
    "    \n",
    "    # Grab a batch and propagate it through the network\n",
    "    x_batch, y_batch = get_batch(vectorized_songs, params['seq_length'], params['batch_size'])\n",
    "    \n",
    "    # Convert numpy arrays to PyTorch tensors\n",
    "    x_batch = torch.tensor(x_batch, dtype=torch.long).to(device)\n",
    "    y_batch = torch.tensor(y_batch, dtype=torch.long).to(device)\n",
    "    \n",
    "    # Take a train step\n",
    "    loss = train_step(x_batch, y_batch)\n",
    "    \n",
    "    # Log the loss to the Comet interface\n",
    "    experiment.log_metric(\"loss\", loss.item(), step=iter)\n",
    "    \n",
    "    # Update the progress bar and visualize within notebook\n",
    "    history.append(loss.item())\n",
    "    plotter.plot(history)\n",
    "    \n",
    "    # Save model checkpoint\n",
    "    if iter % 100 == 0:\n",
    "        torch.save(model.state_dict(), checkpoint_prefix)\n",
    "\n",
    "# Save the final trained model\n",
    "torch.save(model.state_dict(), checkpoint_prefix)\n",
    "experiment.flush()"
   ]
  },
  {
   "cell_type": "markdown",
   "id": "67c388f7",
   "metadata": {},
   "source": [
    "2.6 Generating music using the RNN model"
   ]
  },
  {
   "cell_type": "markdown",
   "id": "ee1c8baa",
   "metadata": {},
   "source": [
    "Now, we can use our trained RNN model to generate some music! When generationg music, we'll have to feed the model some sort of seed to get it started (because it can't predict anything without seeing something to start with).\n",
    "\n",
    "Once we have a generated seed, we can then iteratively predict each sucessive character(remember, we are using ABC representation for our music) using our trained RNN. More specifically, recall that our RNN outputs a softmax over possible successive characters. For inference, we iteratively sample from these distributions, and then use our samples to encode a generated song int the ABC format.\n",
    "\n",
    "Then, all we have to do is write it to a file and listen!"
   ]
  },
  {
   "cell_type": "markdown",
   "id": "4c5df8ff",
   "metadata": {},
   "source": [
    "The predictions procedure"
   ]
  },
  {
   "cell_type": "markdown",
   "id": "03cfd359",
   "metadata": {},
   "source": [
    "Now, we're ready to start to write the code to generate text in the ABC music format:\n",
    "\n",
    "    - Initialize a \"seed\" start string and the RNN state, and set the number if characters we want to generate.\n",
    "    - Use the start string and the RNN state to obtain the probability distribution over the next predicted character.\n",
    "    - Sample from multinomial distribution to calculate the index of the predicted character. This predicted character is then used as the next input to the model.\n",
    "    - At each time step, the updated RNN state is fed back into the model, so that it now has more context in making the next prediction. Afer predicting the next character, the uploaded RNN stares are again fed back into the model, which is how it learns sequence dependencies in the data, as it gets more information from the previous predictions.\n",
    "\n",
    "\n",
    "Complete and experiment with this code block(as well as some of the aspects of the network definition and training!), and see how the model performs. How do songs generated after training with a small number of epochs compare to those generated after a long duration fo training ?"
   ]
  },
  {
   "cell_type": "code",
   "execution_count": 138,
   "id": "c4aacfec",
   "metadata": {},
   "outputs": [],
   "source": [
    "### Prediciton of a generated song ###\n",
    "\n",
    "def generate_text(model, start_string, generation_length=1000):\n",
    "    #Evaluation step (generationg ABC text using the learned RNN model)\n",
    "    \n",
    "    '''TODO: convert the start string to numbers (vectorize)'''\n",
    "    input_idx = [char2idx[s] for s in start_string]\n",
    "    input_idx = torch.tensor([input_idx], dtype=torch.long).to(device)\n",
    "    \n",
    "    # Initialize the hidden state\n",
    "    state = model.init_hidden(input_idx.size(0), device)\n",
    "    \n",
    "    # Empty string to store our results\n",
    "    text_generated = []\n",
    "    tqdm._instances.clear()\n",
    "    \n",
    "    for i in tqdm(range(generation_length)):\n",
    "        '''TODO: evaluate the inputs and generate the next character predictions'''\n",
    "        predictions, hidden_state = model(input_idx, state, return_state=True)\n",
    "        \n",
    "        # Remove the batch dimension\n",
    "        predictions = predictions.squeeze(0)\n",
    "        \n",
    "        '''TODO: use a multinomial distribution to sample over the probabilities'''\n",
    "        input_idx = torch.multinomial(torch.softmax(predictions, dim=-1), num_samples=1)\n",
    "        \n",
    "        '''TODO: add the predicted charcter to the generated text!'''\n",
    "        # Hint: consider what format the prediction is in vs. the output\n",
    "        text_generated.append(idx2char[input_idx].item())\n",
    "        \n",
    "    return (start_string + ''.join(text_generated))"
   ]
  },
  {
   "cell_type": "code",
   "execution_count": 139,
   "id": "040cec85",
   "metadata": {},
   "outputs": [
    {
     "name": "stderr",
     "output_type": "stream",
     "text": [
      "100%|██████████| 1000/1000 [00:00<00:00, 1385.40it/s]\n"
     ]
    }
   ],
   "source": [
    "'''TODO: Use the model and the function defined above to generate ABC format text of length 1000!\n",
    "    As yoy may notice, ABC files start whit \"X\" - this may be a good start string.'''\n",
    "\n",
    "generated_text = generate_text(model, start_string='X', generation_length=1000)"
   ]
  },
  {
   "cell_type": "markdown",
   "id": "f8224f96",
   "metadata": {},
   "source": [
    "Playback the generated music!"
   ]
  },
  {
   "cell_type": "markdown",
   "id": "c82d7c4c",
   "metadata": {},
   "source": [
    "We can now call a function to convert the ABC format to an audio file, and then play that back to check out our genereated music! Try training longer if the resulting song is not long enough, or re-generating the song!\n",
    "\n",
    "We will save the song to Comet--you will be able to find your songs under the Audio and Assests & Artifacts pages in your Comet interface for the project. Note the log_asset() documentation, where you will see how to specify file names and other parameters for saving your assets."
   ]
  },
  {
   "cell_type": "code",
   "execution_count": 140,
   "id": "5ecbffe7",
   "metadata": {},
   "outputs": [
    {
     "name": "stdout",
     "output_type": "stream",
     "text": [
      "Found 6 songs in text\n"
     ]
    }
   ],
   "source": [
    "### Play back generated songs ###\n",
    "generated_songs = mdl.lab1.extract_song_snippet(generated_text)\n",
    "\n",
    "for i, song in enumerate(generated_songs):\n",
    "    # Synthesize the waveform from a song\n",
    "    waveform = mdl.lab1.play_song(song)\n",
    "    \n",
    "    # If its a valid song (correct syntax), lets play it!\n",
    "    if waveform:\n",
    "        print(\"Generated Song\", i)\n",
    "        ipythondisplay.display(waveform)\n",
    "        \n",
    "        numeric_data = np.frombuffer(waveform.data, dtype=np.int16)\n",
    "        wav_file_path = f\"output_{i}.wav\"\n",
    "        write(wav_file_path, 88200, numeric_data)\n",
    "        \n",
    "        # Save your song to the Comet interface -- you can access it there\n",
    "        experiment.log_asset(wav_file_path)"
   ]
  },
  {
   "cell_type": "code",
   "execution_count": 141,
   "id": "83b0bb5e",
   "metadata": {},
   "outputs": [
    {
     "name": "stderr",
     "output_type": "stream",
     "text": [
      "\u001b[1;38;5;39mCOMET INFO:\u001b[0m ---------------------------------------------------------------------------------------\n",
      "\u001b[1;38;5;39mCOMET INFO:\u001b[0m Comet.ml Experiment Summary\n",
      "\u001b[1;38;5;39mCOMET INFO:\u001b[0m ---------------------------------------------------------------------------------------\n",
      "\u001b[1;38;5;39mCOMET INFO:\u001b[0m   Data:\n",
      "\u001b[1;38;5;39mCOMET INFO:\u001b[0m     display_summary_level : 1\n",
      "\u001b[1;38;5;39mCOMET INFO:\u001b[0m     name                  : deep_warbler_8967\n",
      "\u001b[1;38;5;39mCOMET INFO:\u001b[0m     url                   : https://www.comet.com/anthonny20/anthonny20-mit-deep-learning-lab1-part2/e59acab1e4944d05ac3ac2ce754a6cc3\n",
      "\u001b[1;38;5;39mCOMET INFO:\u001b[0m   Metrics [count] (min, max):\n",
      "\u001b[1;38;5;39mCOMET INFO:\u001b[0m     loss [3300] : (0.5855217576026917, 5.017517566680908)\n",
      "\u001b[1;38;5;39mCOMET INFO:\u001b[0m   Parameters:\n",
      "\u001b[1;38;5;39mCOMET INFO:\u001b[0m     batch_size              : 8\n",
      "\u001b[1;38;5;39mCOMET INFO:\u001b[0m     embedding_dim           : 256\n",
      "\u001b[1;38;5;39mCOMET INFO:\u001b[0m     hidden_size             : 1024\n",
      "\u001b[1;38;5;39mCOMET INFO:\u001b[0m     learning_rate           : 0.005\n",
      "\u001b[1;38;5;39mCOMET INFO:\u001b[0m     num_training_iterations : 3000\n",
      "\u001b[1;38;5;39mCOMET INFO:\u001b[0m     seq_length              : 100\n",
      "\u001b[1;38;5;39mCOMET INFO:\u001b[0m   Uploads:\n",
      "\u001b[1;38;5;39mCOMET INFO:\u001b[0m     environment details      : 1\n",
      "\u001b[1;38;5;39mCOMET INFO:\u001b[0m     filename                 : 1\n",
      "\u001b[1;38;5;39mCOMET INFO:\u001b[0m     git metadata             : 1\n",
      "\u001b[1;38;5;39mCOMET INFO:\u001b[0m     git-patch (uncompressed) : 1 (31.88 KB)\n",
      "\u001b[1;38;5;39mCOMET INFO:\u001b[0m     installed packages       : 1\n",
      "\u001b[1;38;5;39mCOMET INFO:\u001b[0m     notebook                 : 1\n",
      "\u001b[1;38;5;39mCOMET INFO:\u001b[0m     source_code              : 1\n",
      "\u001b[1;38;5;39mCOMET INFO:\u001b[0m \n"
     ]
    }
   ],
   "source": [
    "# When done, end the comet experiment\n",
    "experiment.end()"
   ]
  },
  {
   "cell_type": "markdown",
   "id": "8e82ecfa",
   "metadata": {},
   "source": [
    "2.7 Experiment and get awarded for the best songs!"
   ]
  },
  {
   "cell_type": "markdown",
   "id": "3ce6099e",
   "metadata": {},
   "source": [
    "Congrats on making your first sequence model in PyTorch! It's a pretty big accomplishment, and hopefully you have some sweet tunes to show for it.\n",
    "\n",
    "Consider how you may improve your model and what seems to be most important in temrs of perfomance. Here are some ideas to get you started:\n",
    "\n",
    "    - How does the number of training epochs affect the perfomance?\n",
    "    - What if you alter or augment the dataset?\n",
    "    - Does the choice of start string significantly affect the result?\n"
   ]
  }
 ],
 "metadata": {
  "kernelspec": {
   "display_name": "mit-env-3-10",
   "language": "python",
   "name": "python3"
  },
  "language_info": {
   "codemirror_mode": {
    "name": "ipython",
    "version": 3
   },
   "file_extension": ".py",
   "mimetype": "text/x-python",
   "name": "python",
   "nbconvert_exporter": "python",
   "pygments_lexer": "ipython3",
   "version": "3.10.11"
  }
 },
 "nbformat": 4,
 "nbformat_minor": 5
}
