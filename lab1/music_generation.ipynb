{
 "cells": [
  {
   "cell_type": "markdown",
   "id": "127d106a",
   "metadata": {},
   "source": [
    "Part 2: Musig Generation with RNNs"
   ]
  },
  {
   "cell_type": "markdown",
   "id": "47d93fa3",
   "metadata": {},
   "source": [
    "In this position of the lab, we will explore building a Recurrent Neural Network (RNN) for music generation using PyTorch. We will train a model to learn the patterns in raw sheet musin in ABC notation and then use this model to generate new music."
   ]
  },
  {
   "cell_type": "markdown",
   "id": "b9059a73",
   "metadata": {},
   "source": [
    "2.1 Dependencies"
   ]
  },
  {
   "cell_type": "markdown",
   "id": "156cee4a",
   "metadata": {},
   "source": [
    "First, let's download the course repository, install dependencies, and import the relevant packages we'll need for this lab.\n",
    "\n",
    "We will be using Comet ML to track our model development and training runs. First, sign up for a Comet account at this link[https://www.comet.com/signup?utm_source=mit_dl&utm_medium=partner&utm_content=github].You will need to generate a new API Key, which you can find either in the first 'Get Started with Comet' page, under your account settings, or by pressing the '?' in the top right corner and the 'Quickstart Guide'. Enter this API Key as the global variable COMET_API_KEY."
   ]
  }
 ],
 "metadata": {
  "language_info": {
   "name": "python"
  }
 },
 "nbformat": 4,
 "nbformat_minor": 5
}
