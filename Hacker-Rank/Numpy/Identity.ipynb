{
 "cells": [
  {
   "cell_type": "markdown",
   "id": "be1c93d6",
   "metadata": {},
   "source": [
    "Identity"
   ]
  },
  {
   "cell_type": "markdown",
   "id": "50160c4a",
   "metadata": {},
   "source": [
    "- The identity tool returns an identity array. An identity array is a square matrix with all the main diagonal elements as 1 and the rest as 0. The default type of element is float."
   ]
  },
  {
   "cell_type": "code",
   "execution_count": 1,
   "id": "626b2f94",
   "metadata": {},
   "outputs": [
    {
     "name": "stdout",
     "output_type": "stream",
     "text": [
      "[[1. 0. 0.]\n",
      " [0. 1. 0.]\n",
      " [0. 0. 1.]]\n"
     ]
    }
   ],
   "source": [
    "import numpy as np\n",
    "\n",
    "print(np.identity(3)) # 3 is for dimension 3 x 3"
   ]
  },
  {
   "cell_type": "markdown",
   "id": "7441de0a",
   "metadata": {},
   "source": [
    "- Eye: The eye tool returns a 2-D array with 1's as the diagonal and 0's elsewhere. The diagonal can be main, upper or lower depending on the optional parameter k. A positive k is for upper diagonal, a negative k is for the lower, and a 0 k (default) is for the diagonal."
   ]
  },
  {
   "cell_type": "code",
   "execution_count": 2,
   "id": "fc6ddfd5",
   "metadata": {},
   "outputs": [
    {
     "name": "stdout",
     "output_type": "stream",
     "text": [
      "[[0. 1. 0. 0. 0. 0. 0.]\n",
      " [0. 0. 1. 0. 0. 0. 0.]\n",
      " [0. 0. 0. 1. 0. 0. 0.]\n",
      " [0. 0. 0. 0. 1. 0. 0.]\n",
      " [0. 0. 0. 0. 0. 1. 0.]\n",
      " [0. 0. 0. 0. 0. 0. 1.]\n",
      " [0. 0. 0. 0. 0. 0. 0.]\n",
      " [0. 0. 0. 0. 0. 0. 0.]]\n"
     ]
    }
   ],
   "source": [
    "print(np.eye(8, 7, k = 1)) # 8 x 7 Dimensional array with first upper diagonal 1."
   ]
  },
  {
   "cell_type": "code",
   "execution_count": 3,
   "id": "7c000834",
   "metadata": {},
   "outputs": [
    {
     "name": "stdout",
     "output_type": "stream",
     "text": [
      "[[0. 0. 0. 0. 0. 0. 0.]\n",
      " [0. 0. 0. 0. 0. 0. 0.]\n",
      " [1. 0. 0. 0. 0. 0. 0.]\n",
      " [0. 1. 0. 0. 0. 0. 0.]\n",
      " [0. 0. 1. 0. 0. 0. 0.]\n",
      " [0. 0. 0. 1. 0. 0. 0.]\n",
      " [0. 0. 0. 0. 1. 0. 0.]\n",
      " [0. 0. 0. 0. 0. 1. 0.]]\n"
     ]
    }
   ],
   "source": [
    "print(np.eye(8, 7, k = -2))"
   ]
  },
  {
   "cell_type": "markdown",
   "id": "4785d027",
   "metadata": {},
   "source": [
    "- Task: Your task is to print an array of size N x M with its main diagonal elements as 1's and 0's everywhere else.\n",
    "    - Note: In order to get alignment correct, please insert the line np.set_printoptions(legac='1.13') below the numpy import.\n",
    "        - Input Format: A single line containing the space separated values of N and M\n",
    "            - N denotes de rows\n",
    "            - M denotes de columns\n",
    "        - Output Format: Print the desired N x M array.\n"
   ]
  },
  {
   "cell_type": "code",
   "execution_count": 8,
   "id": "cb618ee3",
   "metadata": {},
   "outputs": [
    {
     "name": "stdout",
     "output_type": "stream",
     "text": [
      "[[ 1.  0.  0.]\n",
      " [ 0.  1.  0.]\n",
      " [ 0.  0.  1.]]\n"
     ]
    }
   ],
   "source": [
    "np.set_printoptions(legacy='1.13')\n",
    "N, M = map(int, input().split())\n",
    "\n",
    "print(np.eye(N, M, k = 0))"
   ]
  }
 ],
 "metadata": {
  "kernelspec": {
   "display_name": "deep-learn-3.11",
   "language": "python",
   "name": "python3"
  },
  "language_info": {
   "codemirror_mode": {
    "name": "ipython",
    "version": 3
   },
   "file_extension": ".py",
   "mimetype": "text/x-python",
   "name": "python",
   "nbconvert_exporter": "python",
   "pygments_lexer": "ipython3",
   "version": "3.11.0"
  }
 },
 "nbformat": 4,
 "nbformat_minor": 5
}
