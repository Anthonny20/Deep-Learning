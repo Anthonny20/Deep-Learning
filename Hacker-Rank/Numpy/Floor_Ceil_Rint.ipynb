{
 "cells": [
  {
   "cell_type": "markdown",
   "id": "379b13db",
   "metadata": {},
   "source": [
    "Floor, Ceil and Hint"
   ]
  },
  {
   "cell_type": "markdown",
   "id": "a20e861b",
   "metadata": {},
   "source": [
    "- Floor: The tool floor returns the floor of the input element-wise. The floor of x is the largest integer i where i <= x."
   ]
  },
  {
   "cell_type": "code",
   "execution_count": 1,
   "id": "614de730",
   "metadata": {},
   "outputs": [
    {
     "name": "stdout",
     "output_type": "stream",
     "text": [
      "[1. 2. 3. 4. 5. 6. 7. 8. 9.]\n"
     ]
    }
   ],
   "source": [
    "import numpy as np\n",
    "\n",
    "my_array = np.array([1.1, 2.2, 3.3, 4.4, 5.5, 6.6, 7.7, 8.8, 9.9])\n",
    "print(np.floor(my_array))"
   ]
  },
  {
   "cell_type": "markdown",
   "id": "95b88263",
   "metadata": {},
   "source": [
    "- Ceil: The tool ceil returns ceiling of the input element-wise. The ceiling of x is the smaller integer i where i >= x."
   ]
  },
  {
   "cell_type": "code",
   "execution_count": 2,
   "id": "cee8fc22",
   "metadata": {},
   "outputs": [
    {
     "name": "stdout",
     "output_type": "stream",
     "text": [
      "[ 2.  3.  4.  5.  6.  7.  8.  9. 10.]\n"
     ]
    }
   ],
   "source": [
    "my_array = np.array([1.1, 2.2, 3.3, 4.4, 5.5, 6.6, 7.7, 8.8, 9.9])\n",
    "print(np.ceil(my_array))"
   ]
  },
  {
   "cell_type": "markdown",
   "id": "ace206b9",
   "metadata": {},
   "source": [
    " - Rint: The rint tool rounds to the nearest integer of input element-wise."
   ]
  },
  {
   "cell_type": "code",
   "execution_count": 3,
   "id": "c0d50cb5",
   "metadata": {},
   "outputs": [
    {
     "name": "stdout",
     "output_type": "stream",
     "text": [
      "[ 1.  2.  3.  4.  6.  7.  8.  9. 10.]\n"
     ]
    }
   ],
   "source": [
    "my_array = np.array([1.1, 2.2, 3.3, 4.4, 5.5, 6.6, 7.7, 8.8, 9.9])\n",
    "print(np.rint(my_array))"
   ]
  },
  {
   "cell_type": "markdown",
   "id": "56a087dc",
   "metadata": {},
   "source": [
    "- Task: You are given a 1-D array, A. Your task is to print the floor, ceil and rint of all the elements of A.\n",
    "- Note: In order to get the correct output format, add the line np.set_printoptions(legacy='1.13') below the numpy import.\n",
    "    - Input Format: A single line of input containing the space separated elements of array A.\n",
    "    - Output Format: On the first line, print floor of A. On the second line, print the ceil of A. On the third line, print the rint of A."
   ]
  },
  {
   "cell_type": "code",
   "execution_count": 6,
   "id": "72307fd5",
   "metadata": {},
   "outputs": [
    {
     "name": "stdout",
     "output_type": "stream",
     "text": [
      "[ 1.  2.  3.  4.  5.  6.  7.  8.  9.]\n",
      "[  2.   3.   4.   5.   6.   7.   8.   9.  10.]\n",
      "[  1.   2.   3.   4.   6.   7.   8.   9.  10.]\n"
     ]
    }
   ],
   "source": [
    "np.set_printoptions(legacy='1.13')\n",
    "\n",
    "my_array = list(map(float, input().split()))\n",
    "print(np.floor(my_array))\n",
    "print(np.ceil(my_array))\n",
    "print(np.rint(my_array))"
   ]
  }
 ],
 "metadata": {
  "kernelspec": {
   "display_name": "deep-learn-3.11",
   "language": "python",
   "name": "python3"
  },
  "language_info": {
   "codemirror_mode": {
    "name": "ipython",
    "version": 3
   },
   "file_extension": ".py",
   "mimetype": "text/x-python",
   "name": "python",
   "nbconvert_exporter": "python",
   "pygments_lexer": "ipython3",
   "version": "3.11.0"
  }
 },
 "nbformat": 4,
 "nbformat_minor": 5
}
