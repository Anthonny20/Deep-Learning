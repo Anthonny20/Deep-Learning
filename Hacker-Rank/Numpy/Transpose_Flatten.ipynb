{
 "cells": [
  {
   "cell_type": "markdown",
   "id": "84beffe9",
   "metadata": {},
   "source": [
    "Transpose and Flatten"
   ]
  },
  {
   "cell_type": "markdown",
   "id": "8aba1bd6",
   "metadata": {},
   "source": [
    " - Transpose: We can generate the transposition of an array using tool numpy.transpose.\n",
    " It will not affect the original array, but it will create a new array."
   ]
  },
  {
   "cell_type": "code",
   "execution_count": 1,
   "id": "e62329da",
   "metadata": {},
   "outputs": [
    {
     "name": "stdout",
     "output_type": "stream",
     "text": [
      "[[1 4]\n",
      " [2 5]\n",
      " [3 6]]\n"
     ]
    }
   ],
   "source": [
    "import numpy as np\n",
    "\n",
    "my_array = np.array([[1,2,3],\n",
    "                    [4,5,6]])\n",
    "print (np.transpose(my_array))"
   ]
  },
  {
   "cell_type": "markdown",
   "id": "453701ed",
   "metadata": {},
   "source": [
    "- Flatten: The tool flatten creates a copy of the input array flattened to one dimension."
   ]
  },
  {
   "cell_type": "code",
   "execution_count": 2,
   "id": "c73124f6",
   "metadata": {},
   "outputs": [
    {
     "name": "stdout",
     "output_type": "stream",
     "text": [
      "[1 2 3 4 5 6]\n"
     ]
    }
   ],
   "source": [
    "my_array = np.array([[1,2,3],\n",
    "                    [4,5,6]])\n",
    "print (my_array.flatten())"
   ]
  },
  {
   "cell_type": "markdown",
   "id": "5453c3ad",
   "metadata": {},
   "source": [
    "- Task: You are given a NxM integer array matrix with space separeted elements (N=rows and M = columns).\n",
    "Your task is to print the transpose and flatten results.\n",
    "    - Input format: The first line contains the space separated values of N and M. The next N lines contains the space separeted elements of M columns.\n",
    "    - Output format: First, print the transpose array and the print the flatten.\n",
    "    \n",
    "        - Sample input:  2 2\n",
    "                         1 2\n",
    "                         3 4\n",
    "        - Sample output\n",
    "                        [[1 3]\n",
    "                         [2 4]]\n",
    "                         [1 2 3 4]\n",
    "                         "
   ]
  },
  {
   "cell_type": "code",
   "execution_count": 16,
   "id": "1d8b78e0",
   "metadata": {},
   "outputs": [],
   "source": [
    "def arr_transpose(arr, N, M):\n",
    "    arr = np.array(arr, dtype=int)\n",
    "    arr.shape = (N, M)\n",
    "    print(np.transpose(arr))\n",
    "    print(\"\\n\")\n",
    "    print(arr.flatten())\n"
   ]
  },
  {
   "cell_type": "code",
   "execution_count": null,
   "id": "7903ee89",
   "metadata": {},
   "outputs": [
    {
     "name": "stdout",
     "output_type": "stream",
     "text": [
      "[[1 3]\n",
      " [2 4]]\n",
      "[1 2 3 4]\n"
     ]
    }
   ],
   "source": [
    "# Leitura das dimensões\n",
    "# Lê a primeira linha da entrada, que tem dois números: N(número de linhas) e M (número de colunas).\n",
    "# input().split() separa os números por espaço\n",
    "# map(int, ...)converte esses números para int.\n",
    "# O resultado é desempacotado em N e M.\n",
    "N, M = map(int, input().split())\n",
    "\n",
    "# Leitura dos dados e criação do array\n",
    "# Lê as próximas N linhas, onde cada linha tem m números.\n",
    "# input().split() divide os números da linha\n",
    "# map(int, ...) converte os números de string para inteiro\n",
    "# list(...) transforma o resultado em uma lista de inteiros\n",
    "result = [list(map(int, input().split()))for _ in range(N)]\n",
    "arr = np.array(result)\n",
    "\n",
    "# Transposta\n",
    "print(np.transpose(arr))\n",
    "# print(arr.T)\n",
    "\n",
    "# Flatten\n",
    "\n",
    "print(arr.flatten())    \n"
   ]
  }
 ],
 "metadata": {
  "kernelspec": {
   "display_name": "mit-env-3-10",
   "language": "python",
   "name": "python3"
  },
  "language_info": {
   "codemirror_mode": {
    "name": "ipython",
    "version": 3
   },
   "file_extension": ".py",
   "mimetype": "text/x-python",
   "name": "python",
   "nbconvert_exporter": "python",
   "pygments_lexer": "ipython3",
   "version": "3.10.11"
  }
 },
 "nbformat": 4,
 "nbformat_minor": 5
}
