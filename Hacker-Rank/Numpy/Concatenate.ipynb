{
 "cells": [
  {
   "cell_type": "markdown",
   "id": "895a4e8a",
   "metadata": {},
   "source": [
    "Concatenate"
   ]
  },
  {
   "cell_type": "markdown",
   "id": "b7e12106",
   "metadata": {},
   "source": [
    "Two or more arrays can be concatenated together using the concatenate function with a tuple of the arrays to be joined."
   ]
  },
  {
   "cell_type": "code",
   "execution_count": 10,
   "id": "6f1db59c",
   "metadata": {},
   "outputs": [
    {
     "name": "stdout",
     "output_type": "stream",
     "text": [
      "[1 2 3 4 5 6 7 8 9]\n"
     ]
    }
   ],
   "source": [
    "import numpy as np\n",
    "\n",
    "array_1 = np.array([1, 2, 3])\n",
    "array_2 = np.array([4, 5, 6])\n",
    "array_3 = np.array([7, 8, 9])\n",
    "\n",
    "result = np.concatenate((array_1, array_2, array_3))\n",
    "print(result)"
   ]
  },
  {
   "cell_type": "markdown",
   "id": "83462a7b",
   "metadata": {},
   "source": [
    "If an array has more than one dimension, it is possible to specify the axis alogn which multiple arrays are concatenated. By default, it is along the first dimension."
   ]
  },
  {
   "cell_type": "code",
   "execution_count": 17,
   "id": "5ea2d0a9",
   "metadata": {},
   "outputs": [
    {
     "name": "stdout",
     "output_type": "stream",
     "text": [
      "[[1 2 3 0 0 0]\n",
      " [0 0 0 7 8 9]]\n",
      "[[1 2 3]\n",
      " [0 0 0]\n",
      " [0 0 0]\n",
      " [7 8 9]]\n"
     ]
    }
   ],
   "source": [
    "array_1 = np.array([[1, 2, 3], [0, 0, 0]])\n",
    "array_2 = np.array([[0, 0, 0], [7, 8, 9]])\n",
    "\n",
    "result = np.concatenate((array_1, array_2), axis=1)\n",
    "print(result)\n",
    "result = np.concatenate((array_1, array_2), axis=0)\n",
    "print(result)"
   ]
  },
  {
   "cell_type": "markdown",
   "id": "e5549799",
   "metadata": {},
   "source": [
    "Task"
   ]
  },
  {
   "cell_type": "markdown",
   "id": "19a01bd7",
   "metadata": {},
   "source": [
    "You are given two integer arrays of size N x P and M x P (N & M are rows, and P is the column).\n",
    "Your task is to concatenate the arrays along axis 0.\n",
    "\n",
    " - Input Format:\n",
    "    - The first line contains space separeted integers N, M and P.\n",
    "    - The next N lines contains the space separated elements of the P columns.\n",
    "    - After that, the next M lines contains the space separeted elements of the P columns.\n",
    " \n",
    " - Output Format:\n",
    "    - Print the concatenated array of size (N + M)x P"
   ]
  },
  {
   "cell_type": "code",
   "execution_count": 20,
   "id": "f2d5c089",
   "metadata": {},
   "outputs": [
    {
     "name": "stdout",
     "output_type": "stream",
     "text": [
      "[[1 2]\n",
      " [1 2]\n",
      " [1 2]\n",
      " [1 2]\n",
      " [3 4]\n",
      " [3 4]\n",
      " [3 4]]\n"
     ]
    }
   ],
   "source": [
    "N, M, P = map(int, input().split())\n",
    "\n",
    "elements_of_P_N = [list(map(int, input().split())) for _ in range(N)]\n",
    "\n",
    "elements_of_P_M = [list(map(int, input().split())) for _ in range(M)]\n",
    "\n",
    "elements_of_P_N = np.array(elements_of_P_N)\n",
    "elements_of_P_M = np.array(elements_of_P_M)\n",
    "\n",
    "arr = np.concatenate((elements_of_P_N, elements_of_P_M), axis=0)\n",
    "print(arr)"
   ]
  }
 ],
 "metadata": {
  "kernelspec": {
   "display_name": "mit-env-3-10",
   "language": "python",
   "name": "python3"
  },
  "language_info": {
   "codemirror_mode": {
    "name": "ipython",
    "version": 3
   },
   "file_extension": ".py",
   "mimetype": "text/x-python",
   "name": "python",
   "nbconvert_exporter": "python",
   "pygments_lexer": "ipython3",
   "version": "3.10.11"
  }
 },
 "nbformat": 4,
 "nbformat_minor": 5
}
