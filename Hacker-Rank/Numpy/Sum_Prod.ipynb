{
 "cells": [
  {
   "cell_type": "markdown",
   "id": "71e1ffa4",
   "metadata": {},
   "source": [
    "Sum and Prod"
   ]
  },
  {
   "cell_type": "markdown",
   "id": "009aed9b",
   "metadata": {},
   "source": [
    "- Sum: The sum tool returns the sum of array elements over a given axis."
   ]
  },
  {
   "cell_type": "code",
   "execution_count": null,
   "id": "bb5c553a",
   "metadata": {},
   "outputs": [
    {
     "name": "stdout",
     "output_type": "stream",
     "text": [
      "[ 9 12]\n",
      "[ 3  7 11]\n",
      "21\n",
      "21\n"
     ]
    }
   ],
   "source": [
    "import numpy as np\n",
    "\n",
    "my_array = np.array([ [1, 2], [3,4], [5, 6] ])\n",
    "\n",
    "print(np.sum(my_array, axis = 0)) # Soma das colunas [9, 12]\n",
    "print(np.sum(my_array, axis = 1)) # Soma linha por linha [3 7 11]\n",
    "print(np.sum(my_array, axis = None)) # Somando todos os valores\n",
    "print(np.sum(my_array)) # Default, soma tudo também."
   ]
  },
  {
   "cell_type": "markdown",
   "id": "f8917dbd",
   "metadata": {},
   "source": [
    "By default, the axis value is None. Therefore, it performs a sum over all the dimensions of the input array."
   ]
  },
  {
   "cell_type": "markdown",
   "id": "6598bfdd",
   "metadata": {},
   "source": [
    "- Prod: The prod tool returns the product of array elements over given axis."
   ]
  },
  {
   "cell_type": "code",
   "execution_count": 10,
   "id": "fe47512e",
   "metadata": {},
   "outputs": [
    {
     "name": "stdout",
     "output_type": "stream",
     "text": [
      "[15 48]\n",
      "[ 2 12 30]\n",
      "720\n",
      "720\n"
     ]
    }
   ],
   "source": [
    "my_array = np.array([[1, 2], [3, 4], [5, 6]])\n",
    "# Segue a mesma ideia de sum\n",
    "print(np.prod(my_array, axis = 0))  # Multiplica os elementos da  coluna\n",
    "print(np.prod(my_array, axis = 1)) # Multiplica os elementos da linha\n",
    "print(np.prod(my_array, axis = None))\n",
    "print(np.prod(my_array)) # Multiplica todos elementos.\n",
    "#print(my_array)"
   ]
  },
  {
   "cell_type": "markdown",
   "id": "3abf1806",
   "metadata": {},
   "source": [
    "- Task: You are given a 2-D array with dimensions N x M. Your task is to perform the sum tool over axis 0  and then find the product of that result.\n",
    "    - Input Format: The first line of input contains space separated values of N and M. The next N lines contains M space separated integers.\n",
    "    - Output Format: Compute the sum along axis 0. Then, print the product of that sum."
   ]
  }
 ],
 "metadata": {
  "kernelspec": {
   "display_name": "deep-learn-3.11",
   "language": "python",
   "name": "python3"
  },
  "language_info": {
   "codemirror_mode": {
    "name": "ipython",
    "version": 3
   },
   "file_extension": ".py",
   "mimetype": "text/x-python",
   "name": "python",
   "nbconvert_exporter": "python",
   "pygments_lexer": "ipython3",
   "version": "3.11.0"
  }
 },
 "nbformat": 4,
 "nbformat_minor": 5
}
