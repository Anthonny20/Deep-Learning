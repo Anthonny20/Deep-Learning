{
 "cells": [
  {
   "cell_type": "markdown",
   "id": "c4972363",
   "metadata": {},
   "source": [
    "Min and Max"
   ]
  },
  {
   "cell_type": "markdown",
   "id": "5a844616",
   "metadata": {},
   "source": [
    "- Min: The tool returns the minimum value along a given axis"
   ]
  },
  {
   "cell_type": "code",
   "execution_count": 1,
   "id": "db0b7767",
   "metadata": {},
   "outputs": [],
   "source": [
    "import numpy as np"
   ]
  },
  {
   "cell_type": "code",
   "execution_count": 5,
   "id": "f5a94c19",
   "metadata": {},
   "outputs": [
    {
     "name": "stdout",
     "output_type": "stream",
     "text": [
      "[1 0]\n",
      "[2 3 1 0]\n",
      "0\n",
      "0\n"
     ]
    }
   ],
   "source": [
    "my_array = np.array([[2, 5],\n",
    "                     [3, 7],\n",
    "                     [1, 3],\n",
    "                     [4, 0]])\n",
    "\n",
    "print(np.min(my_array, axis=0))\n",
    "print(np.min(my_array, axis=1))\n",
    "print(np.min(my_array, axis=None))\n",
    "print(np.min(my_array))"
   ]
  },
  {
   "cell_type": "markdown",
   "id": "1c829b02",
   "metadata": {},
   "source": [
    "By default, the axis value is None. Therefore, it finds the minimum over all the dimensions of the input array."
   ]
  },
  {
   "cell_type": "markdown",
   "id": "5ba8e6da",
   "metadata": {},
   "source": [
    "- Max: The tool max returns the maximum value along a given axis."
   ]
  },
  {
   "cell_type": "code",
   "execution_count": 6,
   "id": "15e72aad",
   "metadata": {},
   "outputs": [
    {
     "name": "stdout",
     "output_type": "stream",
     "text": [
      "[4 7]\n",
      "[5 7 3 4]\n",
      "7\n",
      "7\n"
     ]
    }
   ],
   "source": [
    "my_array = np.array([[2, 5],\n",
    "                     [3, 7],\n",
    "                     [1, 3],\n",
    "                     [4, 0]])\n",
    "\n",
    "print(np.max(my_array, axis=0))\n",
    "print(np.max(my_array, axis=1))\n",
    "print(np.max(my_array, axis=None))\n",
    "print(np.max(my_array))"
   ]
  },
  {
   "cell_type": "markdown",
   "id": "6300c5be",
   "metadata": {},
   "source": [
    "By default, the axis value is None. Therefore, it finds the maximum over all the dimensions of the input array."
   ]
  },
  {
   "cell_type": "markdown",
   "id": "c5e71a1f",
   "metadata": {},
   "source": [
    "- Task: You are given a 2-D array with dimensins N x M. Your task is to perform the min function over axis 1 and then find the max of that.\n",
    "    - Input Format: The first line on input contains the space separated values of N and M. The Next N lines contains M space separeted integers.\n",
    "    - Output Format: Compute the min along axis 1 and the print the max of that result."
   ]
  },
  {
   "cell_type": "code",
   "execution_count": 11,
   "id": "3c55ae37",
   "metadata": {},
   "outputs": [
    {
     "name": "stdout",
     "output_type": "stream",
     "text": [
      "3\n"
     ]
    }
   ],
   "source": [
    "N, M = map(int, input().split())\n",
    "\n",
    "my_array = [list(map(int, input().split())) for _ in range (N)]\n",
    "\n",
    "my_array = np.array(my_array)\n",
    "\n",
    "my_array = np.min(my_array, axis=1)\n",
    "#print(my_array)\n",
    "print(np.max(my_array))"
   ]
  }
 ],
 "metadata": {
  "kernelspec": {
   "display_name": "mit-env-3-10",
   "language": "python",
   "name": "python3"
  },
  "language_info": {
   "codemirror_mode": {
    "name": "ipython",
    "version": 3
   },
   "file_extension": ".py",
   "mimetype": "text/x-python",
   "name": "python",
   "nbconvert_exporter": "python",
   "pygments_lexer": "ipython3",
   "version": "3.10.11"
  }
 },
 "nbformat": 4,
 "nbformat_minor": 5
}
