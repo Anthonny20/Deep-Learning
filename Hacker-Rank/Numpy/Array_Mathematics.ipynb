{
 "cells": [
  {
   "cell_type": "markdown",
   "id": "b81984db",
   "metadata": {},
   "source": [
    "Arrays Mathematics"
   ]
  },
  {
   "cell_type": "markdown",
   "id": "53ff955f",
   "metadata": {},
   "source": [
    "Basic mathematical functions operate element-wise on arrays. They are availabe both as operator overloads and as functions in the NumPy module."
   ]
  },
  {
   "cell_type": "code",
   "execution_count": 1,
   "id": "16fcc497",
   "metadata": {},
   "outputs": [
    {
     "name": "stdout",
     "output_type": "stream",
     "text": [
      "[ 6.  8. 10. 12.]\n",
      "[ 6.  8. 10. 12.]\n"
     ]
    }
   ],
   "source": [
    "import numpy as np\n",
    "\n",
    "a = np.array([1, 2, 3, 4], float)\n",
    "b = np.array([5, 6, 7, 8], float)\n",
    "\n",
    "print(a+b)\n",
    "print(np.add(a, b))"
   ]
  },
  {
   "cell_type": "code",
   "execution_count": 2,
   "id": "120a7325",
   "metadata": {},
   "outputs": [
    {
     "name": "stdout",
     "output_type": "stream",
     "text": [
      "[-4. -4. -4. -4.]\n",
      "[-4. -4. -4. -4.]\n"
     ]
    }
   ],
   "source": [
    "print(a-b)\n",
    "print(np.subtract(a, b))"
   ]
  },
  {
   "cell_type": "code",
   "execution_count": 3,
   "id": "198188c9",
   "metadata": {},
   "outputs": [
    {
     "name": "stdout",
     "output_type": "stream",
     "text": [
      "[ 5. 12. 21. 32.]\n",
      "[ 5. 12. 21. 32.]\n"
     ]
    }
   ],
   "source": [
    "print(a * b)\n",
    "print(np.multiply(a, b))"
   ]
  },
  {
   "cell_type": "code",
   "execution_count": 4,
   "id": "18cfe310",
   "metadata": {},
   "outputs": [
    {
     "name": "stdout",
     "output_type": "stream",
     "text": [
      "[0.2        0.33333333 0.42857143 0.5       ]\n",
      "[0.2        0.33333333 0.42857143 0.5       ]\n"
     ]
    }
   ],
   "source": [
    "print(a / b)\n",
    "print(np.divide(a, b))"
   ]
  },
  {
   "cell_type": "code",
   "execution_count": 6,
   "id": "48968569",
   "metadata": {},
   "outputs": [
    {
     "name": "stdout",
     "output_type": "stream",
     "text": [
      "[1. 2. 3. 4.]\n",
      "[1. 2. 3. 4.]\n"
     ]
    }
   ],
   "source": [
    "print (a % b)\n",
    "print (np.mod(a, b))"
   ]
  },
  {
   "cell_type": "code",
   "execution_count": 7,
   "id": "e05541ab",
   "metadata": {},
   "outputs": [
    {
     "name": "stdout",
     "output_type": "stream",
     "text": [
      "[1.0000e+00 6.4000e+01 2.1870e+03 6.5536e+04]\n",
      "[1.0000e+00 6.4000e+01 2.1870e+03 6.5536e+04]\n"
     ]
    }
   ],
   "source": [
    "print(a ** b)\n",
    "print(np.power(a, b))"
   ]
  },
  {
   "cell_type": "code",
   "execution_count": 22,
   "id": "4d5cd07a",
   "metadata": {},
   "outputs": [
    {
     "name": "stdout",
     "output_type": "stream",
     "text": [
      "[[ 6  8 10 12]]\n",
      "[[-4 -4 -4 -4]]\n",
      "[[ 5 12 21 32]]\n",
      "[[0 0 0 0]]\n",
      "[[1 2 3 4]]\n",
      "[[    1    64  2187 65536]]\n"
     ]
    }
   ],
   "source": [
    "import numpy as np\n",
    "N, M  = map(int, input().split())\n",
    "\n",
    "A = [list(map(int, input().split())) for _ in range(N)]\n",
    "\n",
    "B = [list(map(int, input().split())) for _ in range(N)]\n",
    "\n",
    "\n",
    "print(np.add(A, B))\n",
    "print(np.subtract(A, B))\n",
    "print(np.multiply(A, B))\n",
    "print(np.floor_divide(A, B))\n",
    "print(np.mod(A, B))\n",
    "print(np.power(A, B))"
   ]
  }
 ],
 "metadata": {
  "kernelspec": {
   "display_name": "deep-learn-3.11",
   "language": "python",
   "name": "python3"
  },
  "language_info": {
   "codemirror_mode": {
    "name": "ipython",
    "version": 3
   },
   "file_extension": ".py",
   "mimetype": "text/x-python",
   "name": "python",
   "nbconvert_exporter": "python",
   "pygments_lexer": "ipython3",
   "version": "3.11.0"
  }
 },
 "nbformat": 4,
 "nbformat_minor": 5
}
