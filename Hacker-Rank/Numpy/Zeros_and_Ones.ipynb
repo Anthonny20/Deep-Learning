{
 "cells": [
  {
   "cell_type": "markdown",
   "id": "a74a17a0",
   "metadata": {},
   "source": [
    "Zeros and Ones"
   ]
  },
  {
   "cell_type": "markdown",
   "id": "2d2fde64",
   "metadata": {},
   "source": [
    "- Zeros: The zeros tool returns a new array with a given shape and type filled with 0's."
   ]
  },
  {
   "cell_type": "code",
   "execution_count": 6,
   "id": "73ee85e4",
   "metadata": {},
   "outputs": [
    {
     "name": "stdout",
     "output_type": "stream",
     "text": [
      "[[0. 0.]]\n",
      "[[0 0]]\n"
     ]
    }
   ],
   "source": [
    "import numpy as np\n",
    "\n",
    "print (np.zeros((1, 2))) # Default type is float\n",
    "# Output : [[0. 0.]]\n",
    "\n",
    "print(np.zeros((1, 2), dtype= np.int_)) # Type changes to int\n",
    "# Output : [[0 0]]"
   ]
  },
  {
   "cell_type": "markdown",
   "id": "3a5d2282",
   "metadata": {},
   "source": [
    "- Ones: The ones tool returns a new array with a given shape and type filled with 1's."
   ]
  },
  {
   "cell_type": "code",
   "execution_count": 7,
   "id": "1167b552",
   "metadata": {},
   "outputs": [
    {
     "name": "stdout",
     "output_type": "stream",
     "text": [
      "[[1. 1.]]\n",
      "[[1 1]]\n"
     ]
    }
   ],
   "source": [
    "print(np.ones((1, 2)))  # Default type is float\n",
    "# Output : [[1. 1.]]\n",
    "\n",
    "print(np.ones((1, 2), dtype=np.int_)) # Type changes to int\n",
    "# Output : [[1 1]]"
   ]
  },
  {
   "cell_type": "markdown",
   "id": "7f540cb1",
   "metadata": {},
   "source": [
    "- Task: You are given the shape of the array in the form of space-separated integers, each integer representing the size of different dimensions. Your task is to print an array of the given shape and integer type using the tools np.zeros and np.ones.\n",
    "    \n",
    "    - Input Format: A single line containing the space-separated integers.\n",
    "    - Constraints: 1 <= each integer <=3.\n",
    "    - Output Format: First, print the array using np.zeros tool and then print the array with the np.ones tool.\n"
   ]
  },
  {
   "cell_type": "code",
   "execution_count": null,
   "id": "6c96fe4c",
   "metadata": {},
   "outputs": [],
   "source": [
    "shape = tuple(map(int, input().split()))\n",
    "\n",
    "zeros = np.zeros(shape, dtype=int)\n",
    "print(zeros)\n",
    "\n",
    "ones = np.ones(shape, dtype=int)\n",
    "print(ones)"
   ]
  },
  {
   "cell_type": "code",
   "execution_count": null,
   "id": "637c5a77",
   "metadata": {},
   "outputs": [
    {
     "name": "stdout",
     "output_type": "stream",
     "text": [
      "3 3 3\n",
      "[[[0 0 0]\n",
      "  [0 0 0]\n",
      "  [0 0 0]]\n",
      "\n",
      " [[0 0 0]\n",
      "  [0 0 0]\n",
      "  [0 0 0]]\n",
      "\n",
      " [[0 0 0]\n",
      "  [0 0 0]\n",
      "  [0 0 0]]]\n",
      "[[[1 1 1]\n",
      "  [1 1 1]\n",
      "  [1 1 1]]\n",
      "\n",
      " [[1 1 1]\n",
      "  [1 1 1]\n",
      "  [1 1 1]]\n",
      "\n",
      " [[1 1 1]\n",
      "  [1 1 1]\n",
      "  [1 1 1]]]\n"
     ]
    }
   ],
   "source": [
    "shape = map(int, input().split())\n",
    "\n",
    "print(np.zeros((shape), dtype=int))\n",
    "    #print('\\n')\n",
    "\n",
    "print(np.ones((shape), dtype=int))\n",
    "    #print('\\n')\n"
   ]
  }
 ],
 "metadata": {
  "kernelspec": {
   "display_name": "deep-learn-3.11",
   "language": "python",
   "name": "python3"
  },
  "language_info": {
   "codemirror_mode": {
    "name": "ipython",
    "version": 3
   },
   "file_extension": ".py",
   "mimetype": "text/x-python",
   "name": "python",
   "nbconvert_exporter": "python",
   "pygments_lexer": "ipython3",
   "version": "3.11.0"
  }
 },
 "nbformat": 4,
 "nbformat_minor": 5
}
