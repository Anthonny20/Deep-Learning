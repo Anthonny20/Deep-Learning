{
 "cells": [
  {
   "cell_type": "markdown",
   "id": "e91290af",
   "metadata": {},
   "source": [
    "Shape and Reshape"
   ]
  },
  {
   "cell_type": "markdown",
   "id": "6968135e",
   "metadata": {},
   "source": [
    "- Shape : The shape tool gives a tuple of array dimensions and can be used to change the dimensions of an array"
   ]
  },
  {
   "cell_type": "code",
   "execution_count": 1,
   "id": "0c67aba4",
   "metadata": {},
   "outputs": [
    {
     "name": "stdout",
     "output_type": "stream",
     "text": [
      "(5,)\n",
      "(3, 2)\n"
     ]
    }
   ],
   "source": [
    "import numpy as np\n",
    "\n",
    "my__1D_array = np.array([1, 2, 3, 4, 5])\n",
    "print (my__1D_array.shape) # (5, ) -> 1 row and 5 columns\n",
    "\n",
    "my__2D_array = np.array([[1, 2], [3, 4], [6, 5]])\n",
    "print (my__2D_array.shape) # (3, 2) -> 3 rows and 2 columns\n"
   ]
  },
  {
   "cell_type": "code",
   "execution_count": 2,
   "id": "957f697e",
   "metadata": {},
   "outputs": [
    {
     "name": "stdout",
     "output_type": "stream",
     "text": [
      "[[1 2]\n",
      " [3 4]\n",
      " [5 6]]\n"
     ]
    }
   ],
   "source": [
    "# Using shape to change array dimensions\n",
    "\n",
    "change_array = np.array([1, 2, 3, 4, 5, 6])\n",
    "change_array.shape = (3,2)\n",
    "print (change_array)"
   ]
  },
  {
   "cell_type": "markdown",
   "id": "e2073a08",
   "metadata": {},
   "source": [
    "- Reshape: The reshape tool gives a new shape to an array without changing its data. It creates a new array and does not modify the original array itself."
   ]
  },
  {
   "cell_type": "code",
   "execution_count": 4,
   "id": "c9306ee2",
   "metadata": {},
   "outputs": [
    {
     "name": "stdout",
     "output_type": "stream",
     "text": [
      "[[1 2]\n",
      " [3 4]\n",
      " [5 6]]\n",
      "[1 2 3 4 5 6]\n"
     ]
    }
   ],
   "source": [
    "my_array = np.array([1, 2, 3, 4, 5, 6])\n",
    "print(np.reshape(my_array, (3, 2)))\n",
    "print (my_array)"
   ]
  },
  {
   "cell_type": "markdown",
   "id": "3b82a0ac",
   "metadata": {},
   "source": [
    "- Task: You are given a space separeted list of nine integers. Your task is to convert this list to into a 3X3 NumPy array.\n",
    "\n",
    "    - Input Format: A single line of output containing 9 space separeted intergers\n",
    "    - Output Format: Print the 3X3 NumPy array.\n",
    "\n",
    "        - Sample Input : 1 2 3 4 5 6 7 8 9\n",
    "        - Sample Output : [[1 2 3]\n",
    "                            [4 5 6]\n",
    "                                [7 8 9]]"
   ]
  },
  {
   "cell_type": "code",
   "execution_count": 21,
   "id": "185fc638",
   "metadata": {},
   "outputs": [
    {
     "name": "stdout",
     "output_type": "stream",
     "text": [
      "[[1 2 3]\n",
      " [4 5 6]\n",
      " [7 8 9]]\n"
     ]
    }
   ],
   "source": [
    "def shape_my_array(arr):\n",
    "    arr = np.array(arr, dtype=int)\n",
    "    arr.shape = (3, 3)\n",
    "    return arr\n",
    "\n",
    "arr = input().strip().split(' ')\n",
    "result = shape_my_array(arr)\n",
    "print(result)"
   ]
  }
 ],
 "metadata": {
  "kernelspec": {
   "display_name": "deep-learn-3.11",
   "language": "python",
   "name": "python3"
  },
  "language_info": {
   "codemirror_mode": {
    "name": "ipython",
    "version": 3
   },
   "file_extension": ".py",
   "mimetype": "text/x-python",
   "name": "python",
   "nbconvert_exporter": "python",
   "pygments_lexer": "ipython3",
   "version": "3.11.0"
  }
 },
 "nbformat": 4,
 "nbformat_minor": 5
}
