{
 "cells": [
  {
   "cell_type": "markdown",
   "id": "19f14fe8",
   "metadata": {},
   "source": [
    "Linear Algebra"
   ]
  },
  {
   "cell_type": "markdown",
   "id": "4847dac8",
   "metadata": {},
   "source": [
    "The NumPy module also comes with a number of built-in routines for linear algebra calculations. These can be found in the sub-module linalg."
   ]
  },
  {
   "cell_type": "markdown",
   "id": "35b40c14",
   "metadata": {},
   "source": [
    "- linalg.det: The linalg.det tool computes the determinant of an array"
   ]
  },
  {
   "cell_type": "code",
   "execution_count": 2,
   "id": "543589bf",
   "metadata": {},
   "outputs": [
    {
     "name": "stdout",
     "output_type": "stream",
     "text": [
      "-3.0\n"
     ]
    }
   ],
   "source": [
    "import numpy as np\n",
    "np.set_printoptions(legacy='1.13')\n",
    "print(np.linalg.det([[1, 2], [2, 1]]))"
   ]
  },
  {
   "cell_type": "markdown",
   "id": "5542aa9e",
   "metadata": {},
   "source": [
    "- linalg.eig: The linalg.eig computes the eigenvalues and right eigenvectors of a square array."
   ]
  },
  {
   "cell_type": "code",
   "execution_count": null,
   "id": "54fa6e64",
   "metadata": {},
   "outputs": [
    {
     "name": "stdout",
     "output_type": "stream",
     "text": [
      "[ 3. -1.]\n",
      "[[ 0.70710678 -0.70710678]\n",
      " [ 0.70710678  0.70710678]]\n"
     ]
    }
   ],
   "source": [
    "vals, vecs = np.linalg.eig([[1, 2], [2, 1]])\n",
    "print(vals) # Autovalores det(A - yI) = 0, onde I é a matriz indentidade\n",
    "print(vecs) # Autovetores"
   ]
  },
  {
   "cell_type": "markdown",
   "id": "6b6465d2",
   "metadata": {},
   "source": [
    "- linalg.inv: The linalg.inv tool computes the (multiplicative) inverse of a matrix."
   ]
  },
  {
   "cell_type": "code",
   "execution_count": 6,
   "id": "4a2a1872",
   "metadata": {},
   "outputs": [
    {
     "name": "stdout",
     "output_type": "stream",
     "text": [
      "[[-0.33333333  0.66666667]\n",
      " [ 0.66666667 -0.33333333]]\n"
     ]
    }
   ],
   "source": [
    "print(np.linalg.inv([[1, 2],\n",
    "                    [2, 1]]))"
   ]
  },
  {
   "cell_type": "markdown",
   "id": "867f4dbe",
   "metadata": {},
   "source": [
    "- Task: You are given a square matrix A with dimensions N x N. Your task is to find the determinant.\n",
    "- Note: Round the answer to 2 places after the decimal.\n",
    "    - Input Format: The first line contains the integer N.\n",
    "    - The next N lines contains the N space separated elements of array A.\n",
    "    - Output Format: Print the determinant of A."
   ]
  },
  {
   "cell_type": "code",
   "execution_count": 11,
   "id": "e7b522ca",
   "metadata": {},
   "outputs": [
    {
     "name": "stdout",
     "output_type": "stream",
     "text": [
      "0.0\n"
     ]
    }
   ],
   "source": [
    "N = int(input())\n",
    "\n",
    "arr = [list(map(float, input().split())) for _ in range (N)]\n",
    "arr = np.array(arr)\n",
    "\n",
    "result = np.linalg.det(arr)\n",
    "print(f\"{result:.2}\")"
   ]
  }
 ],
 "metadata": {
  "kernelspec": {
   "display_name": "mit-env-3-10",
   "language": "python",
   "name": "python3"
  },
  "language_info": {
   "codemirror_mode": {
    "name": "ipython",
    "version": 3
   },
   "file_extension": ".py",
   "mimetype": "text/x-python",
   "name": "python",
   "nbconvert_exporter": "python",
   "pygments_lexer": "ipython3",
   "version": "3.10.11"
  }
 },
 "nbformat": 4,
 "nbformat_minor": 5
}
