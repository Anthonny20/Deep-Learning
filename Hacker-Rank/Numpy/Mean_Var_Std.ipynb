{
 "cells": [
  {
   "cell_type": "markdown",
   "id": "e0781d38",
   "metadata": {},
   "source": [
    "Mean, Var and Std"
   ]
  },
  {
   "cell_type": "markdown",
   "id": "a72f0977",
   "metadata": {},
   "source": [
    "- Mean: The mean tool computes the arithmetic mean along the specified axis."
   ]
  },
  {
   "cell_type": "code",
   "execution_count": null,
   "id": "6ea92ef7",
   "metadata": {},
   "outputs": [
    {
     "name": "stdout",
     "output_type": "stream",
     "text": [
      "[2. 3.]\n",
      "[1.5 3.5]\n",
      "2.5\n",
      "2.5\n"
     ]
    }
   ],
   "source": [
    "import numpy as np\n",
    "\n",
    "my_array = np.array([[1, 2], \n",
    "                     [3, 4]])\n",
    "print(np.mean(my_array, axis=0))\n",
    "print(np.mean(my_array, axis=1))\n",
    "print(np.mean(my_array, axis=None))\n",
    "print(np.mean(my_array))"
   ]
  },
  {
   "cell_type": "markdown",
   "id": "b83f3889",
   "metadata": {},
   "source": [
    "By default, the axis is None. Therefore, it computes the mean of the flattened array."
   ]
  },
  {
   "cell_type": "markdown",
   "id": "4b7580dd",
   "metadata": {},
   "source": [
    "- Var: The var tool computes the arithmetic variance along the specified axis."
   ]
  },
  {
   "cell_type": "code",
   "execution_count": 10,
   "id": "ad11ee13",
   "metadata": {},
   "outputs": [
    {
     "name": "stdout",
     "output_type": "stream",
     "text": [
      "[1. 1.]\n",
      "[0.25 0.25]\n",
      "1.25\n",
      "1.25\n"
     ]
    }
   ],
   "source": [
    "my_array = np.array([[1, 2],\n",
    "                     [3, 4]])\n",
    "\n",
    "print(np.var(my_array, axis=0))\n",
    "print(np.var(my_array, axis=1))\n",
    "print(np.var(my_array, axis=None))\n",
    "print(np.var(my_array))"
   ]
  },
  {
   "cell_type": "markdown",
   "id": "81ca2fb9",
   "metadata": {},
   "source": [
    "By default, the axis is None. Therefore, it computes the variance of the flattened array."
   ]
  },
  {
   "cell_type": "markdown",
   "id": "8d64b8e9",
   "metadata": {},
   "source": [
    "- Std: The std tool computes the arithmetic standard deviation along the specified aixs."
   ]
  },
  {
   "cell_type": "code",
   "execution_count": 11,
   "id": "13004345",
   "metadata": {},
   "outputs": [
    {
     "name": "stdout",
     "output_type": "stream",
     "text": [
      "[1. 1.]\n",
      "[0.5 0.5]\n",
      "1.118033988749895\n",
      "1.118033988749895\n"
     ]
    }
   ],
   "source": [
    "my_array = np.array([[1, 2],\n",
    "                     [3, 4]])\n",
    "\n",
    "print(np.std(my_array, axis=0))\n",
    "print(np.std(my_array, axis=1))\n",
    "print(np.std(my_array, axis=None))\n",
    "print(np.std(my_array))"
   ]
  },
  {
   "cell_type": "markdown",
   "id": "2605662d",
   "metadata": {},
   "source": [
    "- Task: You are given a 2-D array of size N x M. Your task is to find:\n",
    "    - The mean along axis 1.\n",
    "    - The var along axis 0\n",
    "    - The std along axis None.\n",
    "        - Input Format: The first line contains the scape separated values of N and M. The next N lines contains M space separated integers.\n",
    "        - Output Format:\n",
    "            - First, print the mean.\n",
    "            - Second, print the var.\n",
    "            - Third, print the std."
   ]
  },
  {
   "cell_type": "code",
   "execution_count": null,
   "id": "242f4068",
   "metadata": {},
   "outputs": [
    {
     "name": "stdout",
     "output_type": "stream",
     "text": [
      "[1. 1. 1.]\n",
      "[0. 0. 0.]\n",
      "0.00000000000\n"
     ]
    }
   ],
   "source": [
    "N, M = map(int, input().split())\n",
    "\n",
    "my_array = [list(map(int, input().split())) for _ in range(N)]\n",
    "\n",
    "my_array = np.array(my_array)\n",
    "\n",
    "np.printoptions(precision=11)\n",
    "print(np.mean(my_array, axis=1))\n",
    "print(np.var(my_array, axis = 0))\n",
    "std = np.std(my_array)\n",
    "if std == 0:\n",
    "    print(0.0)\n",
    "else:\n",
    "    print(f\"{std:.11f}\")"
   ]
  }
 ],
 "metadata": {
  "kernelspec": {
   "display_name": "mit-env-3-10",
   "language": "python",
   "name": "python3"
  },
  "language_info": {
   "codemirror_mode": {
    "name": "ipython",
    "version": 3
   },
   "file_extension": ".py",
   "mimetype": "text/x-python",
   "name": "python",
   "nbconvert_exporter": "python",
   "pygments_lexer": "ipython3",
   "version": "3.10.11"
  }
 },
 "nbformat": 4,
 "nbformat_minor": 5
}
