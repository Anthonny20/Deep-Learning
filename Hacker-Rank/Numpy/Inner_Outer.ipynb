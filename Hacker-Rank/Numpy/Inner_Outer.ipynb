{
 "cells": [
  {
   "cell_type": "markdown",
   "id": "fb4cebd3",
   "metadata": {},
   "source": [
    "Inner and Outer"
   ]
  },
  {
   "cell_type": "markdown",
   "id": "466d0ff1",
   "metadata": {},
   "source": [
    "- Inner: The inner tool returns the inner product of two arrays."
   ]
  },
  {
   "cell_type": "code",
   "execution_count": 6,
   "id": "e24575f9",
   "metadata": {},
   "outputs": [
    {
     "name": "stdout",
     "output_type": "stream",
     "text": [
      "4\n"
     ]
    }
   ],
   "source": [
    "import numpy as np\n",
    "\n",
    "A = np.array([0, 1])\n",
    "B = np.array([3, 4])\n",
    "\n",
    "print(np.inner(A, B))"
   ]
  },
  {
   "cell_type": "markdown",
   "id": "203ddbf0",
   "metadata": {},
   "source": [
    "- Outer: The outer tool returns the outer product of two-arrays."
   ]
  },
  {
   "cell_type": "code",
   "execution_count": 12,
   "id": "a9d776bf",
   "metadata": {},
   "outputs": [
    {
     "name": "stdout",
     "output_type": "stream",
     "text": [
      "[[0 0]\n",
      " [3 4]]\n"
     ]
    }
   ],
   "source": [
    "A = np.array([0, 1])\n",
    "B = np.array([3, 4])\n",
    "\n",
    "print(np.outer(A,B))"
   ]
  },
  {
   "cell_type": "markdown",
   "id": "de8fbc8b",
   "metadata": {},
   "source": [
    "- Task: You are given two arrays: A and B. Your task is to compute their inner and outer product.\n",
    "    - Input Format: The first line contains the space separated elements of array A. The second line contains the space separated elements of array B.\n",
    "    - Output Format:\n",
    "        - First, print the inner product.\n",
    "        - Second, print the outer product."
   ]
  },
  {
   "cell_type": "code",
   "execution_count": 17,
   "id": "9ac64b84",
   "metadata": {},
   "outputs": [
    {
     "name": "stdout",
     "output_type": "stream",
     "text": [
      "3\n",
      "[[0 0]\n",
      " [2 3]]\n"
     ]
    }
   ],
   "source": [
    "A = list(map(int, input().split()))\n",
    "A = np.array(A)\n",
    "B = list(map(int, input().split()))\n",
    "B = np.array(B)\n",
    "\n",
    "print(np.inner(A, B))\n",
    "print(np.outer(A, B))\n"
   ]
  }
 ],
 "metadata": {
  "kernelspec": {
   "display_name": "mit-env-3-10",
   "language": "python",
   "name": "python3"
  },
  "language_info": {
   "codemirror_mode": {
    "name": "ipython",
    "version": 3
   },
   "file_extension": ".py",
   "mimetype": "text/x-python",
   "name": "python",
   "nbconvert_exporter": "python",
   "pygments_lexer": "ipython3",
   "version": "3.10.11"
  }
 },
 "nbformat": 4,
 "nbformat_minor": 5
}
