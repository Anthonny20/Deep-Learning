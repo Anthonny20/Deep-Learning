{
 "cells": [
  {
   "cell_type": "markdown",
   "id": "c95f448f",
   "metadata": {},
   "source": [
    "Dot and Cross"
   ]
  },
  {
   "cell_type": "markdown",
   "id": "d5a90ff7",
   "metadata": {},
   "source": [
    "- Dot: The dot tool returns the dot product of two arrays."
   ]
  },
  {
   "cell_type": "code",
   "execution_count": 1,
   "id": "ea22d969",
   "metadata": {},
   "outputs": [
    {
     "name": "stdout",
     "output_type": "stream",
     "text": [
      "11\n"
     ]
    }
   ],
   "source": [
    "import numpy as np\n",
    "\n",
    "A = np.array([1, 2])\n",
    "B = np.array([3, 4])\n",
    "\n",
    "print(np.dot(A, B))"
   ]
  },
  {
   "cell_type": "markdown",
   "id": "e786004e",
   "metadata": {},
   "source": [
    "- Cross: The cross tool returns cross product of two arrays."
   ]
  },
  {
   "cell_type": "code",
   "execution_count": 2,
   "id": "59cb5d4a",
   "metadata": {},
   "outputs": [
    {
     "name": "stdout",
     "output_type": "stream",
     "text": [
      "-2\n"
     ]
    },
    {
     "name": "stderr",
     "output_type": "stream",
     "text": [
      "C:\\Users\\Anthonny\\AppData\\Local\\Temp\\ipykernel_9644\\2880436616.py:4: DeprecationWarning: Arrays of 2-dimensional vectors are deprecated. Use arrays of 3-dimensional vectors instead. (deprecated in NumPy 2.0)\n",
      "  print(np.cross(A, B))\n"
     ]
    }
   ],
   "source": [
    "A = np.array([1, 2])\n",
    "B = np.array([3, 4])\n",
    "\n",
    "print(np.cross(A, B))"
   ]
  },
  {
   "cell_type": "markdown",
   "id": "13862f50",
   "metadata": {},
   "source": [
    "- Task: You are given two arrays A and B. Both have dimensions N x N. Your task is to compute their matrix product.\n",
    "    - Input Format: The first line contains the integer N. The next N lines contains N space separated integers of array A. The following N lines contains N space separated interger of array B.\n",
    "    - Output Format: Print the matrix multiplication of A and B."
   ]
  },
  {
   "cell_type": "code",
   "execution_count": 12,
   "id": "4e8e42f3",
   "metadata": {},
   "outputs": [
    {
     "name": "stdout",
     "output_type": "stream",
     "text": [
      "[[ 7 10]\n",
      " [15 22]]\n"
     ]
    }
   ],
   "source": [
    "N = int(input())\n",
    "A = [list(map(int, input().split())) for _ in range(N)]\n",
    "A = np.array(A)\n",
    "B = [list(map(int, input().split())) for _ in range(N)]\n",
    "B = np.array(B)\n",
    "\n",
    "print(np.dot(A, B))"
   ]
  }
 ],
 "metadata": {
  "kernelspec": {
   "display_name": "mit-env-3-10",
   "language": "python",
   "name": "python3"
  },
  "language_info": {
   "codemirror_mode": {
    "name": "ipython",
    "version": 3
   },
   "file_extension": ".py",
   "mimetype": "text/x-python",
   "name": "python",
   "nbconvert_exporter": "python",
   "pygments_lexer": "ipython3",
   "version": "3.10.11"
  }
 },
 "nbformat": 4,
 "nbformat_minor": 5
}
