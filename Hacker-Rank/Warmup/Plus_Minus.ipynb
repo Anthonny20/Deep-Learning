{
 "cells": [
  {
   "cell_type": "markdown",
   "id": "9341f958",
   "metadata": {},
   "source": [
    "Plus Minus"
   ]
  },
  {
   "cell_type": "markdown",
   "id": "58d229e5",
   "metadata": {},
   "source": [
    "- Given an array of integers, calculate the rations of its elements that are positive, negative, and zero. Print the decimal value of each fraction on a new line with 6 places after the decimal.\n",
    " - Note: This challenge introduces precision problems. The test cases are scaled to six decimal places, though answer with absolute error of up to 10^-4 are acceptable."
   ]
  },
  {
   "cell_type": "markdown",
   "id": "fa786925",
   "metadata": {},
   "source": [
    "- Example: arr[1, 1, 0, -1, -1]\n",
    "-  There are n = 5 elements: two positive, two negative and one zero. Their ratios are 2/5= 0.400000. 2/5 = 0.400000 and 1/5 = 0.200000. Results are printed as:\n",
    "    - 0.400000\n",
    "    - 0.400000\n",
    "    - 0.200000"
   ]
  },
  {
   "cell_type": "markdown",
   "id": "a8ccfa5a",
   "metadata": {},
   "source": [
    "- Function Description: Complete the plusMinus fucntion with the following parameter(s):\n",
    "    - int arr[n]: an array of integers"
   ]
  },
  {
   "cell_type": "markdown",
   "id": "65928883",
   "metadata": {},
   "source": [
    "- Print: Print the ratios of positive, negative and zero values in the array. Each value should be printed on a separate line with 6 digits after the decimal. The function should no return a value."
   ]
  },
  {
   "cell_type": "markdown",
   "id": "daf68907",
   "metadata": {},
   "source": [
    "- Input format: The first line contains an integer, n, the size of the array. The second line contains n space-separeted integers that describe arr[n]."
   ]
  },
  {
   "cell_type": "code",
   "execution_count": 8,
   "id": "3440cd2a",
   "metadata": {},
   "outputs": [
    {
     "name": "stdout",
     "output_type": "stream",
     "text": [
      "[-4.0, 3.0, -9.0, 0.0, 4.0, 1.0]\n",
      "0.500000\n",
      "0.333333\n",
      "0.166667\n"
     ]
    }
   ],
   "source": [
    "n = int(input())\n",
    "\n",
    "arr = list(map(float, input().split()))\n",
    "pos_ratio = 0\n",
    "neg_ratio = 0\n",
    "zero_ratio = 0\n",
    "print(arr)\n",
    "\n",
    "for i in range(len(arr)):\n",
    "    if arr[i] > 0:\n",
    "        pos_ratio += 1\n",
    "    elif arr[i] < 0:\n",
    "        neg_ratio += 1\n",
    "    else:\n",
    "        zero_ratio += 1\n",
    "\n",
    "print(f\"{pos_ratio/len(arr):.6f}\")\n",
    "print(f\"{neg_ratio/len(arr):.6f}\")\n",
    "print(f\"{zero_ratio/len(arr):.6f}\")"
   ]
  }
 ],
 "metadata": {
  "kernelspec": {
   "display_name": "deep-learn-3.11",
   "language": "python",
   "name": "python3"
  },
  "language_info": {
   "codemirror_mode": {
    "name": "ipython",
    "version": 3
   },
   "file_extension": ".py",
   "mimetype": "text/x-python",
   "name": "python",
   "nbconvert_exporter": "python",
   "pygments_lexer": "ipython3",
   "version": "3.11.0"
  }
 },
 "nbformat": 4,
 "nbformat_minor": 5
}
