{
 "cells": [
  {
   "cell_type": "markdown",
   "id": "2171c7d0",
   "metadata": {},
   "source": [
    "Staircase"
   ]
  },
  {
   "cell_type": "markdown",
   "id": "c6c08025",
   "metadata": {},
   "source": [
    "Staircase detail\n",
    "\n",
    "This is a staircase of size n = 4:\n",
    "    -    #\n",
    "    -   ##\n",
    "    -  ###\n",
    "    - ####"
   ]
  },
  {
   "cell_type": "markdown",
   "id": "527d0371",
   "metadata": {},
   "source": [
    "Its base and height are both equal to n. It is drawn using # symbols and spaces. The last "
   ]
  }
 ],
 "metadata": {
  "kernelspec": {
   "display_name": "mit-env-3-10",
   "language": "python",
   "name": "python3"
  },
  "language_info": {
   "name": "python",
   "version": "3.10.11"
  }
 },
 "nbformat": 4,
 "nbformat_minor": 5
}
