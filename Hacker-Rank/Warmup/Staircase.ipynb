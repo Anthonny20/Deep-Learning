{
 "cells": [
  {
   "cell_type": "markdown",
   "id": "2171c7d0",
   "metadata": {},
   "source": [
    "Staircase"
   ]
  },
  {
   "cell_type": "markdown",
   "id": "c6c08025",
   "metadata": {},
   "source": [
    "Staircase detail\n",
    "\n",
    "This is a staircase of size n = 4:\n",
    "    -    #\n",
    "    -   ##\n",
    "    -  ###\n",
    "    - ####"
   ]
  }
 ],
 "metadata": {
  "language_info": {
   "name": "python"
  }
 },
 "nbformat": 4,
 "nbformat_minor": 5
}
