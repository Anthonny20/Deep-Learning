{
 "cells": [
  {
   "cell_type": "markdown",
   "id": "b8fb1231",
   "metadata": {},
   "source": [
    "Simple Array Sum"
   ]
  },
  {
   "cell_type": "markdown",
   "id": "ea7b9327",
   "metadata": {},
   "source": [
    "Given an array of integers, find the sum of its elements.\n",
    "\n",
    "For example, if the array ar = [1, 2, 3], 1 + 2 + 3 = 6, so return 6."
   ]
  },
  {
   "cell_type": "markdown",
   "id": "803bb1b3",
   "metadata": {},
   "source": [
    "- Function Description: Complete the simpleArraySum function with the following parameter(s):\n",
    "    - ar[n]: an array of integers\n",
    "- Returns:\n",
    "    - int: the sum of the array elements\n",
    "\n",
    "- Input Format: The first line contains an integer, n. denoting the size of the array. The second line contains n space-separated intergers represeting the array's elements."
   ]
  },
  {
   "cell_type": "code",
   "execution_count": 3,
   "id": "815b42ca",
   "metadata": {},
   "outputs": [
    {
     "data": {
      "text/plain": [
       "31"
      ]
     },
     "execution_count": 3,
     "metadata": {},
     "output_type": "execute_result"
    }
   ],
   "source": [
    "def simpleArraySum(ar):\n",
    "    total = 0 \n",
    "    for i in range(len(ar)):\n",
    "        total += ar[i]\n",
    "    return total\n",
    "\n",
    "\n",
    "n = map(int, input().split())\n",
    "ar = list(map(int, input().split()))\n",
    "simpleArraySum(ar)"
   ]
  },
  {
   "cell_type": "code",
   "execution_count": 6,
   "id": "771e085c",
   "metadata": {},
   "outputs": [
    {
     "data": {
      "text/plain": [
       "np.int64(31)"
      ]
     },
     "execution_count": 6,
     "metadata": {},
     "output_type": "execute_result"
    }
   ],
   "source": [
    "import numpy as np\n",
    "def simpleArraySum(ar):\n",
    "    ar = np.array(ar, dtype=int)\n",
    "    result = np.sum(ar)\n",
    "    return result\n",
    "\n",
    "n = map(int, input().split())\n",
    "ar = list(map(int, input().split()))\n",
    "simpleArraySum(ar)"
   ]
  },
  {
   "cell_type": "code",
   "execution_count": 11,
   "id": "06c804ff",
   "metadata": {},
   "outputs": [
    {
     "name": "stdout",
     "output_type": "stream",
     "text": [
      "31\n"
     ]
    }
   ],
   "source": [
    "def simpleArraySum(ar):\n",
    "    if len(ar)<= 0:\n",
    "        return 0\n",
    "    else:\n",
    "        return ar[0] + simpleArraySum(ar[1:]) \n",
    "    \n",
    "n = int(input())\n",
    "ar = list(map(int, input().split()))\n",
    "print(simpleArraySum(ar))"
   ]
  }
 ],
 "metadata": {
  "kernelspec": {
   "display_name": "mit-env-3-10",
   "language": "python",
   "name": "python3"
  },
  "language_info": {
   "codemirror_mode": {
    "name": "ipython",
    "version": 3
   },
   "file_extension": ".py",
   "mimetype": "text/x-python",
   "name": "python",
   "nbconvert_exporter": "python",
   "pygments_lexer": "ipython3",
   "version": "3.10.11"
  }
 },
 "nbformat": 4,
 "nbformat_minor": 5
}
