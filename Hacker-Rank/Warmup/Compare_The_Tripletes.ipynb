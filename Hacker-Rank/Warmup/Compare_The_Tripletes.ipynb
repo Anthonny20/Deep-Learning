{
 "cells": [
  {
   "cell_type": "markdown",
   "id": "175efbf1",
   "metadata": {},
   "source": [
    "Compare the Triplets"
   ]
  },
  {
   "cell_type": "markdown",
   "id": "b4b2a0d4",
   "metadata": {},
   "source": [
    "- Alice and Bob each created one problem for HackerRank. A reviewer rates the two challenges, awarding points on a scale from 1 to 100 for three categories: problem clarity, originality, and difficulty. The rating for Alice's challenge is the triplet a = (a[0], a[1], a[2]), and the rating for Bob's challenge is the triplet b = (b[0], b[1], b[2]).\n",
    "- The task is to calculate their comparison points by comparing each category:\n",
    "    - If a[i] > b[i], then Alice is awarded 1 point.\n",
    "    - If a[i] < b[i], then Bob is awarded 1 point.\n",
    "    - If a[i] = b[i], then neither person receives a point"
   ]
  },
  {
   "cell_type": "markdown",
   "id": "4939077d",
   "metadata": {},
   "source": [
    "- Example:\n",
    "    - a = [1, 2, 3]\n",
    "    - b = [3, 2, 1]"
   ]
  },
  {
   "cell_type": "code",
   "execution_count": 4,
   "id": "fd164c91",
   "metadata": {},
   "outputs": [
    {
     "name": "stdout",
     "output_type": "stream",
     "text": [
      "[0, 0]\n"
     ]
    }
   ],
   "source": [
    "\n",
    "def CompareTriplets(alice_arr, bob_arr):\n",
    "    points_alice = 0\n",
    "    points_bob = 0\n",
    "    for x, y in zip(alice_arr, bob_arr):\n",
    "        if x > y:\n",
    "            points_alice += 1\n",
    "        if y < x:\n",
    "            points_bob +=1\n",
    "    \n",
    "    return [points_alice, points_bob]\n",
    "\n",
    "alice_arr = [list(map(int, input().split()))]\n",
    "bob_arr = [list(map(int, input().split()))]\n",
    "print(CompareTriplets(alice_arr, bob_arr))"
   ]
  }
 ],
 "metadata": {
  "kernelspec": {
   "display_name": "mit-env-3-10",
   "language": "python",
   "name": "python3"
  },
  "language_info": {
   "codemirror_mode": {
    "name": "ipython",
    "version": 3
   },
   "file_extension": ".py",
   "mimetype": "text/x-python",
   "name": "python",
   "nbconvert_exporter": "python",
   "pygments_lexer": "ipython3",
   "version": "3.10.11"
  }
 },
 "nbformat": 4,
 "nbformat_minor": 5
}
