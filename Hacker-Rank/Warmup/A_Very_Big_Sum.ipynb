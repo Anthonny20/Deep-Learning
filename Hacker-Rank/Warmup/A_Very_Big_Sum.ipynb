{
 "cells": [
  {
   "cell_type": "markdown",
   "id": "5cbb6265",
   "metadata": {},
   "source": [
    "A Very Big Sum"
   ]
  },
  {
   "cell_type": "markdown",
   "id": "da791f11",
   "metadata": {},
   "source": [
    "In this challenge, you need to calculate and print the sum of elements in an array, considering that some integers may be very large."
   ]
  },
  {
   "cell_type": "markdown",
   "id": "9e1bf8d2",
   "metadata": {},
   "source": [
    "- Function Description: Complete the aVeryBigSum fucntion with the following paramerters(s):\n",
    "    - int ar[n]: an array if integers\n",
    "- Return:\n",
    "    - long: the sum of the array elements"
   ]
  },
  {
   "cell_type": "markdown",
   "id": "44e81d33",
   "metadata": {},
   "source": [
    "- Input Format: The first line of the input consists of an integer n. The next line contains n space-separeted integers contained in the array.\n",
    "- Outout Format: Return the integer sum of the elements in the array."
   ]
  },
  {
   "cell_type": "code",
   "execution_count": 1,
   "id": "dfa6d12a",
   "metadata": {},
   "outputs": [],
   "source": [
    "import numpy as np"
   ]
  },
  {
   "cell_type": "code",
   "execution_count": 8,
   "id": "a7a8fdcb",
   "metadata": {},
   "outputs": [],
   "source": [
    "def aVeryBigSum(arr):\n",
    "    arr = np.array(arr, dtype=np.int64)\n",
    "    return np.sum(arr)"
   ]
  },
  {
   "cell_type": "code",
   "execution_count": null,
   "id": "e8b551a3",
   "metadata": {},
   "outputs": [
    {
     "name": "stdout",
     "output_type": "stream",
     "text": [
      "5000000015\n"
     ]
    }
   ],
   "source": [
    "n = int(input())\n",
    "arr = list(map(int, input().split()))\n",
    "print(aVeryBigSum(arr))\n"
   ]
  },
  {
   "cell_type": "code",
   "execution_count": 11,
   "id": "5ee2fc54",
   "metadata": {},
   "outputs": [
    {
     "name": "stdout",
     "output_type": "stream",
     "text": [
      "5000000015\n"
     ]
    }
   ],
   "source": [
    "def aVeryBigSum2(ar):\n",
    "    total = 0\n",
    "    for i in range((len(ar))):\n",
    "        total += ar[i]\n",
    "    return total\n",
    "\n",
    "n = int(input())\n",
    "arr = list(map(int, input().split()))\n",
    "print(aVeryBigSum2(arr))"
   ]
  },
  {
   "cell_type": "code",
   "execution_count": null,
   "id": "fbf24fee",
   "metadata": {},
   "outputs": [],
   "source": []
  }
 ],
 "metadata": {
  "kernelspec": {
   "display_name": "deep-learn-3.11",
   "language": "python",
   "name": "python3"
  },
  "language_info": {
   "codemirror_mode": {
    "name": "ipython",
    "version": 3
   },
   "file_extension": ".py",
   "mimetype": "text/x-python",
   "name": "python",
   "nbconvert_exporter": "python",
   "pygments_lexer": "ipython3",
   "version": "3.11.0"
  }
 },
 "nbformat": 4,
 "nbformat_minor": 5
}
