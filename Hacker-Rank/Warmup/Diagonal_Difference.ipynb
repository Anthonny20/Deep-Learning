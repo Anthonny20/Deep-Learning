{
 "cells": [
  {
   "cell_type": "markdown",
   "id": "3f9a02b7",
   "metadata": {},
   "source": [
    "Diagonal Difference"
   ]
  },
  {
   "cell_type": "markdown",
   "id": "aaef3568",
   "metadata": {},
   "source": [
    "- Given a square matrix, calculate the absolute difference between the sums of its diagonals. For example, the square matrix arr is show below:\n",
    "    - 1 2 3\n",
    "    - 4 5 6\n",
    "    - 9 8 9\n",
    "    - The left-to-right diagonal = 1 + 5 + 9 = 15\n",
    "    - The right-to-letf diagonal = 3 + 5 + 9 = 17\n",
    "- Their absolute difference is |15 - 17| = 2\n"
   ]
  },
  {
   "cell_type": "markdown",
   "id": "c25e6912",
   "metadata": {},
   "source": [
    "- Function Description: Complete the diagonalDifference function with the following parameter:\n",
    "    - int arr[n][m]: a 2-D array of integers\n",
    "    - Return: int: the absolute difference in sums along the diagonals"
   ]
  },
  {
   "cell_type": "markdown",
   "id": "d8144d6a",
   "metadata": {},
   "source": [
    "- Input Format: The first line contains a single integer, n, the number of rows and columns in the square matrix arr. Each of the next n lines describes a row, arr[i], and consists of n space-separeted integers arr[i][j]."
   ]
  },
  {
   "cell_type": "code",
   "execution_count": 1,
   "id": "3bad0cc1",
   "metadata": {},
   "outputs": [],
   "source": [
    "import numpy as np"
   ]
  },
  {
   "cell_type": "code",
   "execution_count": 9,
   "id": "81bdc0b1",
   "metadata": {},
   "outputs": [],
   "source": [
    "def diagonalDifference(arr):\n",
    "    arr = np.array(arr)\n",
    "    diagonal_principal = np.trace(arr)\n",
    "    diagonal_secundaria = np.trace(np.fliplr(arr))\n",
    "    return abs(diagonal_principal - diagonal_secundaria)"
   ]
  },
  {
   "cell_type": "code",
   "execution_count": 17,
   "id": "62156cc1",
   "metadata": {},
   "outputs": [
    {
     "name": "stdout",
     "output_type": "stream",
     "text": [
      "4\n",
      "15\n"
     ]
    }
   ],
   "source": [
    "n = int(input())\n",
    "\n",
    "arr = [list(map(int, input().split())) for _ in range(n)]\n",
    "print(np.trace(arr))\n",
    "print(diagonalDifference(arr))"
   ]
  },
  {
   "cell_type": "code",
   "execution_count": 24,
   "id": "61f83ab4",
   "metadata": {},
   "outputs": [
    {
     "data": {
      "text/plain": [
       "3"
      ]
     },
     "execution_count": 24,
     "metadata": {},
     "output_type": "execute_result"
    }
   ],
   "source": [
    "len(arr)"
   ]
  },
  {
   "cell_type": "markdown",
   "id": "820d61cd",
   "metadata": {},
   "source": [
    "Sem Numpy"
   ]
  },
  {
   "cell_type": "code",
   "execution_count": 25,
   "id": "66f1095c",
   "metadata": {},
   "outputs": [
    {
     "data": {
      "text/plain": [
       "15"
      ]
     },
     "execution_count": 25,
     "metadata": {},
     "output_type": "execute_result"
    }
   ],
   "source": [
    "prim = 0\n",
    "sec = 0\n",
    "for i in range(len(arr)):\n",
    "    for j in range(len(arr)):\n",
    "        if i == j:\n",
    "            prim += arr[i][j]\n",
    "        if  i + j == len(arr) - 1:\n",
    "            sec += arr[i][j]\n",
    "abs(prim - sec)\n"
   ]
  }
 ],
 "metadata": {
  "kernelspec": {
   "display_name": "deep-learn-3.11",
   "language": "python",
   "name": "python3"
  },
  "language_info": {
   "codemirror_mode": {
    "name": "ipython",
    "version": 3
   },
   "file_extension": ".py",
   "mimetype": "text/x-python",
   "name": "python",
   "nbconvert_exporter": "python",
   "pygments_lexer": "ipython3",
   "version": "3.11.0"
  }
 },
 "nbformat": 4,
 "nbformat_minor": 5
}
