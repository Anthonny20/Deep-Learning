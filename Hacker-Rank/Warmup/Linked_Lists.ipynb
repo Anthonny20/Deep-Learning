{
 "cells": [
  {
   "cell_type": "markdown",
   "id": "f7b587e7",
   "metadata": {},
   "source": [
    "Linked Lists"
   ]
  },
  {
   "cell_type": "markdown",
   "id": "c3a8069f",
   "metadata": {},
   "source": [
    "- Insert a node at a specific position in a linked list: Given a pointer to the head node of a linked list and an integer to insert at a certain position, create a new node with the given integer as its data attribute, insert this node at the desired position, and return the head node.\n",
    "- A position of 0 indicates the head, a position of 1 indicates one node away from the head, and so on. The head pointer given may be null, meaning that the initial list is empty."
   ]
  },
  {
   "cell_type": "markdown",
   "id": "423cf89c",
   "metadata": {},
   "source": [
    "- Example: \n",
    "    - head refers to the first node in the list 1 -> 2 -> 3 \n",
    "    - data = 4\n",
    "    - position = 2\n",
    "- Insert a node at position 2 with data = 4. The new list is 1 -> 2 -> 3 -> 4"
   ]
  },
  {
   "cell_type": "markdown",
   "id": "51c292c6",
   "metadata": {},
   "source": [
    "- Function Description: Complete the function insertNodeAtPosition with the following parameters:\n",
    "    - SinglyLinkedListNode pointer llist: a reference to the head of the list\n",
    "    - data: an integer value to insert as data in the new node\n",
    "    - position: an integer position to insert the new node, zero-based indexing\n",
    "- Returns\n",
    "    - SinglyLinkedListNode pointer: a reference to the head of the revised list\n",
    "- Input Format: \n",
    "    - The first line contains an integer n, the number of elements in the linked list.\n",
    "    - Each of the next n lines contains an integer SinglyLinkedListNode[i].data.\n",
    "    - The next line contains an integer data, the data of the node that is to be inserted.\n",
    "    - The last line contains an integer position."
   ]
  },
  {
   "cell_type": "code",
   "execution_count": 1,
   "id": "b34baa36",
   "metadata": {},
   "outputs": [],
   "source": [
    "class Node():\n",
    "    def __init__(self, data):\n",
    "        self.data = data\n",
    "        self.next = None"
   ]
  },
  {
   "cell_type": "code",
   "execution_count": 2,
   "id": "84e44777",
   "metadata": {},
   "outputs": [],
   "source": [
    "def insertNodeAtPosition(head, data, pos):\n",
    "    new_node = Node(data)\n",
    "\n",
    "    if pos == 0:\n",
    "        new_node.next = head\n",
    "        return new_node\n",
    "    \n",
    "    current = head\n",
    "    for _ in range(pos - 1):\n",
    "        current = current.next\n",
    "\n",
    "    new_node.next = current.next\n",
    "    current.next = new_node"
   ]
  },
  {
   "cell_type": "code",
   "execution_count": 3,
   "id": "8618fa91",
   "metadata": {},
   "outputs": [],
   "source": [
    "def build_linked_list(values):\n",
    "    if not values:\n",
    "        return None\n",
    "    head = Node(values[0])\n",
    "    current = head\n",
    "    for val in values[1:]:\n",
    "        current.next = Node(val)\n",
    "        current = current.next\n",
    "    return head\n",
    "\n",
    "def print_linked_list(head):\n",
    "    current = head\n",
    "    while current:\n",
    "        print(current.data, end=' ')\n",
    "        current = current.next\n",
    "    print()"
   ]
  },
  {
   "cell_type": "code",
   "execution_count": 21,
   "id": "0d0b20f9",
   "metadata": {},
   "outputs": [],
   "source": [
    "n = int(input())\n",
    "values = []\n",
    "for _ in range(n):\n",
    "    values.append(input())\n",
    "#values = [list(map(int, input().split())) for _ in range(n)]\n",
    "data = int(input())\n",
    "position = int(input())\n",
    "\n",
    "head = build_linked_list(values)\n",
    "head = insertNodeAtPosition(head, data, position)\n",
    "head"
   ]
  },
  {
   "cell_type": "code",
   "execution_count": null,
   "id": "b1d6126e",
   "metadata": {},
   "outputs": [],
   "source": []
  }
 ],
 "metadata": {
  "kernelspec": {
   "display_name": "deep-learn-3.11",
   "language": "python",
   "name": "python3"
  },
  "language_info": {
   "codemirror_mode": {
    "name": "ipython",
    "version": 3
   },
   "file_extension": ".py",
   "mimetype": "text/x-python",
   "name": "python",
   "nbconvert_exporter": "python",
   "pygments_lexer": "ipython3",
   "version": "3.11.0"
  }
 },
 "nbformat": 4,
 "nbformat_minor": 5
}
