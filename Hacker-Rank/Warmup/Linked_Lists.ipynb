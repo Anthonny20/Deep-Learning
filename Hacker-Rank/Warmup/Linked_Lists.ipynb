{
 "cells": [
  {
   "cell_type": "markdown",
   "id": "f7b587e7",
   "metadata": {},
   "source": [
    "Linked Lists"
   ]
  },
  {
   "cell_type": "markdown",
   "id": "c3a8069f",
   "metadata": {},
   "source": [
    "- Insert a node at a specific position in a linked list: Given a pointer to the head node of a linked list and an integer to insert at a certain position, create a new node with the given integer as its data attribute, insert this node at the desired position, and return the head node.\n",
    "- A position of 0 indicates the head, a position of 1 indicates one node away from the head, and so on. The head pointer given may be null, meaning that the initial list is empty."
   ]
  },
  {
   "cell_type": "markdown",
   "id": "423cf89c",
   "metadata": {},
   "source": [
    "- Example: \n",
    "    - head refers to the first node in the list 1 -> 2 -> 3 \n",
    "    - data = 4\n",
    "    - position = 2\n",
    "- Insert a node at position 2 with data = 4. The new list is 1 -> 2 -> 3 -> 4"
   ]
  },
  {
   "cell_type": "markdown",
   "id": "51c292c6",
   "metadata": {},
   "source": [
    "- Function Description: Complete the function insertNodeAtPosition with the following parameters:\n",
    "    - SinglyLinkedListNode pointer llist: a reference to the head of the list\n",
    "    - data: an integer value to insert as data in the new node\n",
    "    - position: an integer position to insert the new node, zero-based indexing\n",
    "- Returns\n",
    "    - SinglyLinkedListNode pointer: a reference to the head of the revised list\n",
    "- Input Format: \n",
    "    - The first line contains an integer n, the number of elements in the linked list.\n",
    "    - Each of the next n lines contains an integer SinglyLinkedListNode[i].data.\n",
    "    - The next line contains an integer data, the data of the node that is to be inserted.\n",
    "    - The last line contains an integer position"
   ]
  }
 ],
 "metadata": {
  "language_info": {
   "name": "python"
  }
 },
 "nbformat": 4,
 "nbformat_minor": 5
}
